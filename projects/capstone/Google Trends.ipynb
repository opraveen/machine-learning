{
 "cells": [
  {
   "cell_type": "code",
   "execution_count": 1,
   "metadata": {},
   "outputs": [],
   "source": [
    "from pytrends.request import TrendReq\n",
    "import pandas as pd\n",
    "\n",
    "import time\n",
    "import seaborn as sns\n",
    "import matplotlib.pyplot as plt\n",
    "import datetime\n",
    "import numpy as np\n",
    "from datetime import datetime, timedelta\n",
    "\n",
    "%matplotlib inline\n",
    "sns.set(style=\"white\")"
   ]
  },
  {
   "cell_type": "code",
   "execution_count": 2,
   "metadata": {},
   "outputs": [],
   "source": [
    "# Connect to Google\n",
    "pytrend = TrendReq(hl='de-CH')\n",
    "# pytrend = TrendReq(hl='en-US', tz=360)"
   ]
  },
  {
   "cell_type": "code",
   "execution_count": 15,
   "metadata": {},
   "outputs": [
    {
     "data": {
      "text/html": [
       "<div>\n",
       "<style scoped>\n",
       "    .dataframe tbody tr th:only-of-type {\n",
       "        vertical-align: middle;\n",
       "    }\n",
       "\n",
       "    .dataframe tbody tr th {\n",
       "        vertical-align: top;\n",
       "    }\n",
       "\n",
       "    .dataframe thead th {\n",
       "        text-align: right;\n",
       "    }\n",
       "</style>\n",
       "<table border=\"1\" class=\"dataframe\">\n",
       "  <thead>\n",
       "    <tr style=\"text-align: right;\">\n",
       "      <th></th>\n",
       "      <th>ethereum</th>\n",
       "    </tr>\n",
       "  </thead>\n",
       "  <tbody>\n",
       "    <tr>\n",
       "      <th>count</th>\n",
       "      <td>140.000000</td>\n",
       "    </tr>\n",
       "    <tr>\n",
       "      <th>mean</th>\n",
       "      <td>15.464286</td>\n",
       "    </tr>\n",
       "    <tr>\n",
       "      <th>std</th>\n",
       "      <td>21.485953</td>\n",
       "    </tr>\n",
       "    <tr>\n",
       "      <th>min</th>\n",
       "      <td>0.000000</td>\n",
       "    </tr>\n",
       "    <tr>\n",
       "      <th>25%</th>\n",
       "      <td>2.000000</td>\n",
       "    </tr>\n",
       "    <tr>\n",
       "      <th>50%</th>\n",
       "      <td>4.000000</td>\n",
       "    </tr>\n",
       "    <tr>\n",
       "      <th>75%</th>\n",
       "      <td>23.500000</td>\n",
       "    </tr>\n",
       "    <tr>\n",
       "      <th>max</th>\n",
       "      <td>100.000000</td>\n",
       "    </tr>\n",
       "  </tbody>\n",
       "</table>\n",
       "</div>"
      ],
      "text/plain": [
       "         ethereum\n",
       "count  140.000000\n",
       "mean    15.464286\n",
       "std     21.485953\n",
       "min      0.000000\n",
       "25%      2.000000\n",
       "50%      4.000000\n",
       "75%     23.500000\n",
       "max    100.000000"
      ]
     },
     "execution_count": 15,
     "metadata": {},
     "output_type": "execute_result"
    }
   ],
   "source": [
    "# keyword = 'BTC to USD'\n",
    "# coins = ['bitcoin', 'ethereum', 'litecoin', 'ripple']\n",
    "coins = ['bitcoin', 'ethereum']\n",
    "# for keyword in coins:\n",
    "\n",
    "keyword = 'ethereum'\n",
    "\n",
    "pytrend = TrendReq(hl='de-CH')\n",
    "\n",
    "# time_set = ['2015-08-07 2016-04-12', \n",
    "#             '2016-04-13 2016-12-12',\n",
    "#             '2016-12-13 2017-04-12',\n",
    "#             '2017-04-13 2017-12-12',\n",
    "#             '2017-12-13 2018-04-12'\n",
    "#            ]\n",
    "\n",
    "time_set = ['2015-08-07 2018-04-12']\n",
    "    \n",
    "results_df = pd.DataFrame()\n",
    "\n",
    "# Google uses UTC\n",
    "for time_dur in time_set:\n",
    "    # Look for google search results world-wide\n",
    "    pytrend.build_payload(kw_list=[keyword], timeframe=time_dur, geo='', gprop='')\n",
    "    trend_df = pytrend.interest_over_time()\n",
    "    times = time_dur.split()\n",
    "    \n",
    "    # Interest Over Time\n",
    "    results_df = results_df.append(trend_df) #, ignore_index = True)\n",
    "\n",
    "# print(len(results_df)\n",
    "results_df.describe()"
   ]
  },
  {
   "cell_type": "code",
   "execution_count": 16,
   "metadata": {},
   "outputs": [
    {
     "data": {
      "text/plain": [
       "[<matplotlib.lines.Line2D at 0x1d59a400828>]"
      ]
     },
     "execution_count": 16,
     "metadata": {},
     "output_type": "execute_result"
    },
    {
     "data": {
      "image/png": "[encoded data removed]",
      "text/plain": [
       "<matplotlib.figure.Figure at 0x1d59f655e48>"
      ]
     },
     "metadata": {},
     "output_type": "display_data"
    }
   ],
   "source": [
    "plt.plot(results_df['ethereum'])"
   ]
  },
  {
   "cell_type": "code",
   "execution_count": 11,
   "metadata": {},
   "outputs": [],
   "source": [
    "# Return dataframe \n",
    "# generates per-day google trends data even when query duration is greater than 6 months\n",
    "# Accumulates data by using multiple queries and scaling query results appropriately \n",
    "# by having overlapped dates in successive queries \n",
    "def get_trends_data (keyword, start_date, end_date, overlap):\n",
    "    # this works as of 4/14 for at least the search terms I tried. Google trends might change its behavior\n",
    "    max_delta = 180 # in days\n",
    "    \n",
    "    # Create time_set array\n",
    "    time_set = []\n",
    "    first = start_date\n",
    "    last = start_date\n",
    "    while last < end_date:\n",
    "        last = min(end_date, first + timedelta(days=max_delta))\n",
    "        time_set.append(first.strftime('%Y-%m-%d')+' '+last.strftime('%Y-%m-%d'))\n",
    "        first = (last + timedelta(days=1)) - timedelta(days=overlap)\n",
    "                  \n",
    "    print (time_set)\n",
    "    \n",
    "    # Initialize output dataframe\n",
    "    results_df = pd.DataFrame()\n",
    "\n",
    "    # Skip re-scaling for the first iteration\n",
    "    first_iter = 1\n",
    "\n",
    "    for time_dur in time_set:\n",
    "        pytrend.build_payload(kw_list=[keyword], timeframe=time_dur, geo='', gprop='')\n",
    "        trend_df = pytrend.interest_over_time()\n",
    "    \n",
    "        if first_iter == 1:\n",
    "            first_iter = 0\n",
    "            overlap = 0\n",
    "        else:\n",
    "            overlap = (prev_end_date - trend_df.index[0]).days + 1\n",
    "            print (overlap)\n",
    "    \n",
    "            if overlap < 1:\n",
    "                print (\"ERROR: Killing since overlap is not even one day: Overlap = \", overlap)\n",
    "                exit(1)\n",
    "            else:\n",
    "                print (\"Proceeding since overlap is \", overlap)\n",
    "      \n",
    "            if overlap > 1:\n",
    "                prev_df = results_df.iloc[-1*overlap:][keyword]\n",
    "                curr_df = trend_df.iloc[:overlap][keyword]\n",
    "                scale_fac = np.mean(1.0*prev_df/curr_df)\n",
    "                print (scale_fac)\n",
    "            else:\n",
    "                print (\"Overlap is greater than 1. overlap = \", overlap)\n",
    "        \n",
    "            trend_df[keyword] *= scale_fac\n",
    "    \n",
    "        prev_end_date = trend_df.index[-1]\n",
    "    \n",
    "        # Interest Over Time\n",
    "        results_df = results_df.append(trend_df.iloc[overlap:]) #, ignore_index = True)\n",
    "\n",
    "    return results_df"
   ]
  },
  {
   "cell_type": "code",
   "execution_count": 7,
   "metadata": {},
   "outputs": [
    {
     "name": "stdout",
     "output_type": "stream",
     "text": [
      "['2015-08-07 2016-02-03', '2016-01-31 2016-07-29', '2016-07-26 2017-01-22', '2017-01-19 2017-07-18', '2017-07-15 2018-01-11', '2018-01-08 2018-04-12']\n",
      "4\n",
      "Proceeding since overlap is  4\n",
      "1.182119021134594\n",
      "4\n",
      "Proceeding since overlap is  4\n",
      "1.3995151655223177\n",
      "4\n",
      "Proceeding since overlap is  4\n",
      "4.090323184135019\n",
      "4\n",
      "Proceeding since overlap is  4\n",
      "25.54625952948612\n",
      "4\n",
      "Proceeding since overlap is  4\n",
      "14.442432402510686\n"
     ]
    }
   ],
   "source": [
    "start_date = datetime.strptime('2015-08-07', '%Y-%m-%d')\n",
    "end_date = datetime.strptime('2018-04-12', '%Y-%m-%d')\n",
    "\n",
    "overlap = 4\n",
    "\n",
    "bitcoin_trends_df = get_trends_data('bitcoin', start_date, end_date, overlap)"
   ]
  },
  {
   "cell_type": "code",
   "execution_count": 12,
   "metadata": {},
   "outputs": [
    {
     "name": "stdout",
     "output_type": "stream",
     "text": [
      "['2015-08-07 2016-02-03', '2016-01-31 2016-07-29', '2016-07-26 2017-01-22', '2017-01-19 2017-07-18', '2017-07-15 2018-01-11', '2018-01-08 2018-04-12']\n",
      "4\n",
      "Proceeding since overlap is  4\n",
      "6.034722222222221\n",
      "4\n",
      "Proceeding since overlap is  4\n",
      "2.9500584461949506\n",
      "4\n",
      "Proceeding since overlap is  4\n",
      "48.67596436221669\n",
      "4\n",
      "Proceeding since overlap is  4\n",
      "64.53443177402822\n",
      "4\n",
      "Proceeding since overlap is  4\n",
      "58.61695206195652\n"
     ]
    }
   ],
   "source": [
    "ethereum_trends_df = get_trends_data('ethereum', start_date, end_date, overlap)"
   ]
  },
  {
   "cell_type": "code",
   "execution_count": 8,
   "metadata": {},
   "outputs": [
    {
     "data": {
      "text/plain": [
       "[<matplotlib.lines.Line2D at 0x1d59e058320>]"
      ]
     },
     "execution_count": 8,
     "metadata": {},
     "output_type": "execute_result"
    },
    {
     "data": {
      "image/png": "[encoded data removed]",
      "text/plain": [
       "<matplotlib.figure.Figure at 0x1d59e085e48>"
      ]
     },
     "metadata": {},
     "output_type": "display_data"
    }
   ],
   "source": [
    "plt.plot(bitcoin_trends_df['bitcoin'])"
   ]
  },
  {
   "cell_type": "code",
   "execution_count": 14,
   "metadata": {},
   "outputs": [
    {
     "data": {
      "text/plain": [
       "[<matplotlib.lines.Line2D at 0x1d59f96d400>]"
      ]
     },
     "execution_count": 14,
     "metadata": {},
     "output_type": "execute_result"
    },
    {
     "data": {
      "image/png": "[encoded data removed]",
      "text/plain": [
       "<matplotlib.figure.Figure at 0x1d59e0edc88>"
      ]
     },
     "metadata": {},
     "output_type": "display_data"
    }
   ],
   "source": [
    "plt.plot(ethereum_trends_df['ethereum'])"
   ]
  },
  {
   "cell_type": "code",
   "execution_count": null,
   "metadata": {},
   "outputs": [],
   "source": [
    "times = time_dur.split()\n",
    "print (times)\n",
    "\n",
    "pytrend.build_payload(kw_list=[keyword], timeframe='today 1-m', geo='CH', gprop='news')\n",
    "trend_df = pytrend.interest_over_time()\n",
    "print (trend_df)"
   ]
  },
  {
   "cell_type": "code",
   "execution_count": null,
   "metadata": {},
   "outputs": [],
   "source": []
  }
 ],
 "metadata": {
  "kernelspec": {
   "display_name": "Python 3",
   "language": "python",
   "name": "python3"
  },
  "language_info": {
   "codemirror_mode": {
    "name": "ipython",
    "version": 3
   },
   "file_extension": ".py",
   "mimetype": "text/x-python",
   "name": "python",
   "nbconvert_exporter": "python",
   "pygments_lexer": "ipython3",
   "version": "3.6.4"
  }
 },
 "nbformat": 4,
 "nbformat_minor": 2
}
