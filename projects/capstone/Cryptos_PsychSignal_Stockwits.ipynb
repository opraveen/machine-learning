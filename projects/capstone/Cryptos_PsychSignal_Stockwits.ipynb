{
 "cells": [
  {
   "cell_type": "markdown",
   "metadata": {
    "collapsed": true
   },
   "source": [
    "# PsychSignal: StockTwits Trader Mood (All Fields)\n",
    "\n",
    "In this notebook, we'll take a look at PsychSignal's *StockTwits Trader Mood (All Fields)* dataset, available on the [Quantopian Store](https://www.quantopian.com/store). This dataset spans 2009 through the current day, and documents the mood of traders based on their messages.\n",
    "\n",
    "## Notebook Contents\n",
    "\n",
    "There are two ways to access the data and you'll find both of them listed below. Just click on the section you'd like to read through.\n",
    "\n",
    "- <a href='#interactive'><strong>Interactive overview</strong></a>: This is only available on Research and uses blaze to give you access to large amounts of data. Recommended for exploration and plotting.\n",
    "- <a href='#pipeline'><strong>Pipeline overview</strong></a>: Data is made available through pipeline which is available on both the Research & Backtesting environment. Recommended for custom factor development and moving back & forth between research/backtesting.\n",
    "\n",
    "### Free samples and limits\n",
    "One key caveat: we limit the number of results returned from any given expression to 10,000 to protect against runaway memory usage. To be clear, you have access to all the data server side. We are limiting the size of the responses back from Blaze.\n",
    "\n",
    "There is a *free* version of this dataset as well as a paid one. The free sample includes data until 2 months prior to the current date.\n",
    "\n",
    "To access the most up-to-date values for this data set for trading a live algorithm (as with other partner sets), you need to purchase acess to the full set.\n",
    "\n",
    "With preamble in place, let's get started:\n",
    "\n",
    "<a id='interactive'></a>\n",
    "#Interactive Overview\n",
    "### Accessing the data with Blaze and Interactive on Research\n",
    "Partner datasets are available on Quantopian Research through an API service known as [Blaze](http://blaze.pydata.org). Blaze provides the Quantopian user with a convenient interface to access very large datasets, in an interactive, generic manner.\n",
    "\n",
    "Blaze provides an important function for accessing these datasets. Some of these sets are many millions of records. Bringing that data directly into Quantopian Research directly just is not viable. So Blaze allows us to provide a simple querying interface and shift the burden over to the server side.\n",
    "\n",
    "It is common to use Blaze to reduce your dataset in size, convert it over to Pandas and then to use Pandas for further computation, manipulation and visualization.\n",
    "\n",
    "Helpful links:\n",
    "* [Query building for Blaze](http://blaze.readthedocs.io/en/latest/queries.html)\n",
    "* [Pandas-to-Blaze dictionary](http://blaze.readthedocs.io/en/latest/rosetta-pandas.html)\n",
    "* [SQL-to-Blaze dictionary](http://blaze.readthedocs.io/en/latest/rosetta-sql.html).\n",
    "\n",
    "Once you've limited the size of your Blaze object, you can convert it to a Pandas DataFrames using:\n",
    "> `from odo import odo`  \n",
    "> `odo(expr, pandas.DataFrame)`\n",
    "\n",
    "\n",
    "###To see how this data can be used in your algorithm, search for the `Pipeline Overview` section of this notebook or head straight to <a href='#pipeline'>Pipeline Overview</a>"
   ]
  },
  {
   "cell_type": "code",
   "execution_count": 1,
   "metadata": {},
   "outputs": [],
   "source": [
    "# import the free sample of the dataset\n",
    "from quantopian.interactive.data.psychsignal import stocktwits_free  as dataset\n",
    "\n",
    "# or if you want to import the full dataset, use:\n",
    "# from quantopian.interactive.data.psychsignal import stocktwits\n",
    "\n",
    "# import data operations\n",
    "from odo import odo\n",
    "# import other libraries we will use\n",
    "import pandas as pd\n",
    "import matplotlib.pyplot as plt"
   ]
  },
  {
   "cell_type": "code",
   "execution_count": 2,
   "metadata": {},
   "outputs": [
    {
     "data": {
      "text/plain": [
       "dshape(\"\"\"var * {\n",
       "  source: ?string,\n",
       "  symbol: string,\n",
       "  bullish_intensity: float64,\n",
       "  bearish_intensity: float64,\n",
       "  bull_minus_bear: float64,\n",
       "  bull_scored_messages: float64,\n",
       "  bear_scored_messages: float64,\n",
       "  bull_bear_msg_ratio: float64,\n",
       "  total_scanned_messages: float64,\n",
       "  sid: int64,\n",
       "  asof_date: datetime,\n",
       "  timestamp: datetime\n",
       "  }\"\"\")"
      ]
     },
     "execution_count": 2,
     "metadata": {},
     "output_type": "execute_result"
    }
   ],
   "source": [
    "# Let's use blaze to understand the data a bit using Blaze dshape()\n",
    "dataset.dshape"
   ]
  },
  {
   "cell_type": "code",
   "execution_count": 3,
   "metadata": {},
   "outputs": [
    {
     "data": {
      "text/html": [
       "5383741"
      ],
      "text/plain": [
       "5383741"
      ]
     },
     "execution_count": 3,
     "metadata": {},
     "output_type": "execute_result"
    }
   ],
   "source": [
    "# And how many rows are there?\n",
    "# N.B. we're using a Blaze function to do this, not len()\n",
    "dataset.count()"
   ]
  },
  {
   "cell_type": "code",
   "execution_count": 4,
   "metadata": {},
   "outputs": [
    {
     "data": {
      "text/html": [
       "<table border=\"1\" class=\"dataframe\">\n",
       "  <thead>\n",
       "    <tr style=\"text-align: right;\">\n",
       "      <th></th>\n",
       "      <th>source</th>\n",
       "      <th>symbol</th>\n",
       "      <th>bullish_intensity</th>\n",
       "      <th>bearish_intensity</th>\n",
       "      <th>bull_minus_bear</th>\n",
       "      <th>bull_scored_messages</th>\n",
       "      <th>bear_scored_messages</th>\n",
       "      <th>bull_bear_msg_ratio</th>\n",
       "      <th>total_scanned_messages</th>\n",
       "      <th>sid</th>\n",
       "      <th>asof_date</th>\n",
       "      <th>timestamp</th>\n",
       "    </tr>\n",
       "  </thead>\n",
       "  <tbody>\n",
       "    <tr>\n",
       "      <th>0</th>\n",
       "      <td>stocktwits</td>\n",
       "      <td>AA</td>\n",
       "      <td>1.19</td>\n",
       "      <td>0.0</td>\n",
       "      <td>1.19</td>\n",
       "      <td>1.0</td>\n",
       "      <td>0.0</td>\n",
       "      <td>0.0</td>\n",
       "      <td>2.0</td>\n",
       "      <td>2</td>\n",
       "      <td>2009-08-24 04:00:00</td>\n",
       "      <td>2009-08-25 04:00:00</td>\n",
       "    </tr>\n",
       "    <tr>\n",
       "      <th>1</th>\n",
       "      <td>stocktwits</td>\n",
       "      <td>AA</td>\n",
       "      <td>1.33</td>\n",
       "      <td>0.0</td>\n",
       "      <td>1.33</td>\n",
       "      <td>1.0</td>\n",
       "      <td>0.0</td>\n",
       "      <td>0.0</td>\n",
       "      <td>2.0</td>\n",
       "      <td>2</td>\n",
       "      <td>2009-09-03 04:00:00</td>\n",
       "      <td>2009-09-04 04:00:00</td>\n",
       "    </tr>\n",
       "    <tr>\n",
       "      <th>2</th>\n",
       "      <td>stocktwits</td>\n",
       "      <td>AA</td>\n",
       "      <td>2.50</td>\n",
       "      <td>2.3</td>\n",
       "      <td>0.20</td>\n",
       "      <td>1.0</td>\n",
       "      <td>1.0</td>\n",
       "      <td>1.0</td>\n",
       "      <td>2.0</td>\n",
       "      <td>2</td>\n",
       "      <td>2009-09-10 04:00:00</td>\n",
       "      <td>2009-09-11 04:00:00</td>\n",
       "    </tr>\n",
       "  </tbody>\n",
       "</table>"
      ],
      "text/plain": [
       "       source symbol  bullish_intensity  bearish_intensity  bull_minus_bear  \\\n",
       "0  stocktwits     AA               1.19                0.0             1.19   \n",
       "1  stocktwits     AA               1.33                0.0             1.33   \n",
       "2  stocktwits     AA               2.50                2.3             0.20   \n",
       "\n",
       "   bull_scored_messages  bear_scored_messages  bull_bear_msg_ratio  \\\n",
       "0                   1.0                   0.0                  0.0   \n",
       "1                   1.0                   0.0                  0.0   \n",
       "2                   1.0                   1.0                  1.0   \n",
       "\n",
       "   total_scanned_messages  sid           asof_date           timestamp  \n",
       "0                     2.0    2 2009-08-24 04:00:00 2009-08-25 04:00:00  \n",
       "1                     2.0    2 2009-09-03 04:00:00 2009-09-04 04:00:00  \n",
       "2                     2.0    2 2009-09-10 04:00:00 2009-09-11 04:00:00  "
      ]
     },
     "execution_count": 4,
     "metadata": {},
     "output_type": "execute_result"
    }
   ],
   "source": [
    "# Let's see what the data looks like. We'll grab the first three rows.\n",
    "dataset[:3]"
   ]
  },
  {
   "cell_type": "markdown",
   "metadata": {},
   "source": [
    "There are two versions of each data set from PsychSignal. A simple version with fewer fields and full version with more fields. This is an basic data set with fewer fields.\n",
    "\n",
    "Let's go over the columns:\n",
    "- **asof_date**: The date to which this data applies.\n",
    "- **symbol**: stock ticker symbol of the affected company.\n",
    "- **source**: the same value for all records in this data set\n",
    "- **bull_scored_messages**: total count of bullish sentiment messages scored by PsychSignal's algorithm\n",
    "- **bear_scored_messages**: total count of bearish sentiment messages scored by PsychSignal's algorithm\n",
    "- **bullish_intensity**: score for each message's language for the stength of the bullishness present in the messages on a 0-4 scale. 0 indicates no bullish sentiment measured, 4 indicates strongest bullish sentiment measured. 4 is rare\n",
    "- **bearish_intensity**: score for each message's language for the stength of the bearish present in the messages on a 0-4 scale. 0 indicates no bearish sentiment measured, 4 indicates strongest bearish sentiment measured. 4 is rare\n",
    "- **total_scanned_messages**: number of messages coming through PsuchSignal's feeds and attributable to a symbol regardless of whether the PsychSignal sentiment engine can score them for bullish or bearish intensity- **timestamp**: this is our timestamp on when we registered the data.\n",
    "- **bull_minus_bear**: subtracts the bearish intesity from the bullish intensity [BULL - BEAR] to rpovide an immediate net score.\n",
    "- **bull_bear_msg_ratio**: the ratio between bull scored messages and bear scored messages.\n",
    "- **sid**: the equity's unique identifier. Use this instead of the symbol.\n",
    "\n",
    "We've done much of the data processing for you. Fields like `timestamp` and `sid` are standardized across all our Store Datasets, so the datasets are easy to combine. We have standardized the `sid` across all our equity databases.\n",
    "\n",
    "We can select columns and rows with ease. Below, we'll fetch all rows for Apple (sid 24) and explore the scores a bit with a chart."
   ]
  },
  {
   "cell_type": "code",
   "execution_count": 5,
   "metadata": {},
   "outputs": [
    {
     "name": "stderr",
     "output_type": "stream",
     "text": [
      "/usr/local/lib/python2.7/dist-packages/ipykernel_launcher.py:5: FutureWarning: pd.rolling_mean is deprecated for Series and will be removed in a future version, replace with \n",
      "\tSeries.rolling(window=30,center=False).mean()\n",
      "  \"\"\"\n"
     ]
    },
    {
     "data": {
      "text/plain": [
       "<matplotlib.legend.Legend at 0x7fa0b9a346d0>"
      ]
     },
     "execution_count": 5,
     "metadata": {},
     "output_type": "execute_result"
    },
    {
     "data": {
      "image/png": "[encoded data removed]",
      "text/plain": [
       "<matplotlib.figure.Figure at 0x7fa0b9f21110>"
      ]
     },
     "metadata": {},
     "output_type": "display_data"
    }
   ],
   "source": [
    "# Filtering for bitcoin\n",
    "bitcoin = dataset[dataset.symbol == 'BTC']\n",
    "bitcoin_df = odo(bitcoin.sort('asof_date'), pd.DataFrame)\n",
    "plt.plot(bitcoin_df.asof_date, bitcoin_df.bull_scored_messages, marker='.', linestyle='None', color='r')\n",
    "plt.plot(bitcoin_df.asof_date, pd.rolling_mean(bitcoin_df.bull_scored_messages, 30))\n",
    "plt.xlabel(\"As Of Date (asof_date)\")\n",
    "plt.ylabel(\"Count of Bull Messages\")\n",
    "plt.title(\"Count of Bullish Messages for bitcoin\")\n",
    "plt.legend([\"Bull Messages - Single Day\", \"30 Day Rolling Average\"], loc=2)"
   ]
  },
  {
   "cell_type": "code",
   "execution_count": 6,
   "metadata": {},
   "outputs": [
    {
     "name": "stderr",
     "output_type": "stream",
     "text": [
      "/usr/local/lib/python2.7/dist-packages/ipykernel_launcher.py:5: FutureWarning: pd.rolling_mean is deprecated for Series and will be removed in a future version, replace with \n",
      "\tSeries.rolling(window=30,center=False).mean()\n",
      "  \"\"\"\n"
     ]
    },
    {
     "data": {
      "text/plain": [
       "<matplotlib.legend.Legend at 0x7fa0b982f810>"
      ]
     },
     "execution_count": 6,
     "metadata": {},
     "output_type": "execute_result"
    },
    {
     "data": {
      "image/png": "[encoded data removed]",
      "text/plain": [
       "<matplotlib.figure.Figure at 0x7fa0b98922d0>"
      ]
     },
     "metadata": {},
     "output_type": "display_data"
    }
   ],
   "source": [
    "# Filtering for ethereum\n",
    "ethereum = dataset[dataset.symbol == 'ETH']\n",
    "ethereum_df = odo(ethereum.sort('asof_date'), pd.DataFrame)\n",
    "plt.plot(ethereum_df.asof_date, ethereum_df.bull_scored_messages, marker='.', linestyle='None', color='r')\n",
    "plt.plot(ethereum_df.asof_date, pd.rolling_mean(ethereum_df.bull_scored_messages, 30))\n",
    "plt.xlabel(\"As Of Date (asof_date)\")\n",
    "plt.ylabel(\"Count of Bull Messages\")\n",
    "plt.title(\"Count of Bullish Messages for ethereum\")\n",
    "plt.legend([\"Bull Messages - Single Day\", \"30 Day Rolling Average\"], loc=2)"
   ]
  },
  {
   "cell_type": "code",
   "execution_count": null,
   "metadata": {
    "collapsed": true
   },
   "outputs": [],
   "source": [
    "# Dates of interest \n",
    "start_date = '2015-08-07'\n",
    "end_date = '2018-04-12'"
   ]
  },
  {
   "cell_type": "code",
   "execution_count": 7,
   "metadata": {},
   "outputs": [
    {
     "ename": "ValueError",
     "evalue": "labels ['source' 'symbol' 'sid' 'asof_date' 'timestamp'] not contained in axis",
     "output_type": "error",
     "traceback": [
      "\u001b[0;31m\u001b[0m",
      "\u001b[0;31mValueError\u001b[0mTraceback (most recent call last)",
      "\u001b[0;32m<ipython-input-7-67160ecc2019>\u001b[0m in \u001b[0;36m<module>\u001b[0;34m()\u001b[0m\n\u001b[1;32m     15\u001b[0m \u001b[0mbitcoin_df\u001b[0m \u001b[0;34m=\u001b[0m \u001b[0mbitcoin_df\u001b[0m\u001b[0;34m.\u001b[0m\u001b[0mreindex\u001b[0m\u001b[0;34m(\u001b[0m\u001b[0mall_dates\u001b[0m\u001b[0;34m,\u001b[0m \u001b[0mfill_value\u001b[0m\u001b[0;34m=\u001b[0m\u001b[0;36m0\u001b[0m\u001b[0;34m)\u001b[0m\u001b[0;34m\u001b[0m\u001b[0m\n\u001b[1;32m     16\u001b[0m \u001b[0;34m\u001b[0m\u001b[0m\n\u001b[0;32m---> 17\u001b[0;31m \u001b[0mbitcoin_df\u001b[0m\u001b[0;34m.\u001b[0m\u001b[0mdrop\u001b[0m\u001b[0;34m(\u001b[0m\u001b[0;34m[\u001b[0m\u001b[0;34m'source'\u001b[0m\u001b[0;34m,\u001b[0m \u001b[0;34m'symbol'\u001b[0m\u001b[0;34m,\u001b[0m \u001b[0;34m'sid'\u001b[0m\u001b[0;34m,\u001b[0m \u001b[0;34m'asof_date'\u001b[0m\u001b[0;34m,\u001b[0m \u001b[0;34m'timestamp'\u001b[0m\u001b[0;34m]\u001b[0m\u001b[0;34m,\u001b[0m \u001b[0minplace\u001b[0m\u001b[0;34m=\u001b[0m\u001b[0mTrue\u001b[0m\u001b[0;34m)\u001b[0m\u001b[0;34m\u001b[0m\u001b[0m\n\u001b[0m\u001b[1;32m     18\u001b[0m \u001b[0mbitcoin_df\u001b[0m\u001b[0;34m.\u001b[0m\u001b[0mreset_index\u001b[0m\u001b[0;34m(\u001b[0m\u001b[0mlevel\u001b[0m\u001b[0;34m=\u001b[0m\u001b[0;36m0\u001b[0m\u001b[0;34m,\u001b[0m \u001b[0minplace\u001b[0m\u001b[0;34m=\u001b[0m\u001b[0mTrue\u001b[0m\u001b[0;34m)\u001b[0m\u001b[0;34m\u001b[0m\u001b[0m\n\u001b[1;32m     19\u001b[0m \u001b[0;34m\u001b[0m\u001b[0m\n",
      "\u001b[0;32m/usr/local/lib/python2.7/dist-packages/pandas/core/generic.pyc\u001b[0m in \u001b[0;36mdrop\u001b[0;34m(self, labels, axis, level, inplace, errors)\u001b[0m\n\u001b[1;32m   1875\u001b[0m                 \u001b[0mnew_axis\u001b[0m \u001b[0;34m=\u001b[0m \u001b[0maxis\u001b[0m\u001b[0;34m.\u001b[0m\u001b[0mdrop\u001b[0m\u001b[0;34m(\u001b[0m\u001b[0mlabels\u001b[0m\u001b[0;34m,\u001b[0m \u001b[0mlevel\u001b[0m\u001b[0;34m=\u001b[0m\u001b[0mlevel\u001b[0m\u001b[0;34m,\u001b[0m \u001b[0merrors\u001b[0m\u001b[0;34m=\u001b[0m\u001b[0merrors\u001b[0m\u001b[0;34m)\u001b[0m\u001b[0;34m\u001b[0m\u001b[0m\n\u001b[1;32m   1876\u001b[0m             \u001b[0;32melse\u001b[0m\u001b[0;34m:\u001b[0m\u001b[0;34m\u001b[0m\u001b[0m\n\u001b[0;32m-> 1877\u001b[0;31m                 \u001b[0mnew_axis\u001b[0m \u001b[0;34m=\u001b[0m \u001b[0maxis\u001b[0m\u001b[0;34m.\u001b[0m\u001b[0mdrop\u001b[0m\u001b[0;34m(\u001b[0m\u001b[0mlabels\u001b[0m\u001b[0;34m,\u001b[0m \u001b[0merrors\u001b[0m\u001b[0;34m=\u001b[0m\u001b[0merrors\u001b[0m\u001b[0;34m)\u001b[0m\u001b[0;34m\u001b[0m\u001b[0m\n\u001b[0m\u001b[1;32m   1878\u001b[0m             \u001b[0mdropped\u001b[0m \u001b[0;34m=\u001b[0m \u001b[0mself\u001b[0m\u001b[0;34m.\u001b[0m\u001b[0mreindex\u001b[0m\u001b[0;34m(\u001b[0m\u001b[0;34m**\u001b[0m\u001b[0;34m{\u001b[0m\u001b[0maxis_name\u001b[0m\u001b[0;34m:\u001b[0m \u001b[0mnew_axis\u001b[0m\u001b[0;34m}\u001b[0m\u001b[0;34m)\u001b[0m\u001b[0;34m\u001b[0m\u001b[0m\n\u001b[1;32m   1879\u001b[0m             \u001b[0;32mtry\u001b[0m\u001b[0;34m:\u001b[0m\u001b[0;34m\u001b[0m\u001b[0m\n",
      "\u001b[0;32m/usr/local/lib/python2.7/dist-packages/pandas/indexes/base.pyc\u001b[0m in \u001b[0;36mdrop\u001b[0;34m(self, labels, errors)\u001b[0m\n\u001b[1;32m   3049\u001b[0m             \u001b[0;32mif\u001b[0m \u001b[0merrors\u001b[0m \u001b[0;34m!=\u001b[0m \u001b[0;34m'ignore'\u001b[0m\u001b[0;34m:\u001b[0m\u001b[0;34m\u001b[0m\u001b[0m\n\u001b[1;32m   3050\u001b[0m                 raise ValueError('labels %s not contained in axis' %\n\u001b[0;32m-> 3051\u001b[0;31m                                  labels[mask])\n\u001b[0m\u001b[1;32m   3052\u001b[0m             \u001b[0mindexer\u001b[0m \u001b[0;34m=\u001b[0m \u001b[0mindexer\u001b[0m\u001b[0;34m[\u001b[0m\u001b[0;34m~\u001b[0m\u001b[0mmask\u001b[0m\u001b[0;34m]\u001b[0m\u001b[0;34m\u001b[0m\u001b[0m\n\u001b[1;32m   3053\u001b[0m         \u001b[0;32mreturn\u001b[0m \u001b[0mself\u001b[0m\u001b[0;34m.\u001b[0m\u001b[0mdelete\u001b[0m\u001b[0;34m(\u001b[0m\u001b[0mindexer\u001b[0m\u001b[0;34m)\u001b[0m\u001b[0;34m\u001b[0m\u001b[0m\n",
      "\u001b[0;31mValueError\u001b[0m: labels ['source' 'symbol' 'sid' 'asof_date' 'timestamp'] not contained in axis"
     ]
    }
   ],
   "source": [
    "# Drop hh:min:sec from time-stamp\n",
    "bitcoin_df['Date'] = bitcoin_df['asof_date'].dt.strftime('%Y-%m-%d')\n",
    "bitcoin_df = bitcoin_df.assign(Date=pd.to_datetime(bitcoin_df['Date']))\n",
    "\n",
    "bitcoin_df = bitcoin_df[bitcoin_df['Date']>=start_date]\n",
    "bitcoin_df = bitcoin_df[bitcoin_df['Date']<=end_date]\n",
    "\n",
    "bitcoin_df.set_index('Date', inplace=True)\n",
    "\n",
    "all_dates = pd.date_range(start_date, end_date)\n",
    "bitcoin_df = bitcoin_df.reindex(all_dates, fill_value=0)\n",
    "\n",
    "\n",
    "bitcoin_df.drop(['source', 'symbol', 'sid', 'asof_date', 'timestamp'], axis=1, inplace=True)\n",
    "bitcoin_df.reset_index(level=0, inplace=True)\n",
    "\n",
    "bitcoin_df.rename(index=str, columns={\"index\": \"Date\"}, inplace=True)\n",
    "\n",
    "bitcoin_df.to_pickle(\"bitcoin_stocktwits.pkl\")"
   ]
  },
  {
   "cell_type": "code",
   "execution_count": 14,
   "metadata": {},
   "outputs": [],
   "source": [
    "# Drop hh:min:sec from time-stamp\n",
    "ethereum_df['Date'] = ethereum_df['asof_date'].dt.strftime('%Y-%m-%d')\n",
    "ethereum_df = ethereum_df.assign(Date=pd.to_datetime(ethereum_df['Date']))\n",
    "\n",
    "ethereum_df = ethereum_df[ethereum_df['Date']>=start_date]\n",
    "ethereum_df = ethereum_df[ethereum_df['Date']<=end_date]\n",
    "\n",
    "ethereum_df.set_index('Date', inplace=True)\n",
    "\n",
    "all_dates = pd.date_range(start_date, end_date)\n",
    "ethereum_df = ethereum_df.reindex(all_dates, fill_value=0)\n",
    "\n",
    "\n",
    "ethereum_df.drop(['source', 'symbol', 'sid', 'asof_date', 'timestamp'], axis=1, inplace=True)\n",
    "ethereum_df.reset_index(level=0, inplace=True)\n",
    "\n",
    "ethereum_df.rename(index=str, columns={\"index\": \"Date\"}, inplace=True)\n",
    "\n",
    "# ethereum_df.to_pickle(\"ethereum_stocktwits.pkl\")"
   ]
  },
  {
   "cell_type": "code",
   "execution_count": 15,
   "metadata": {},
   "outputs": [
    {
     "data": {
      "text/html": [
       "<div>\n",
       "<table border=\"1\" class=\"dataframe\">\n",
       "  <thead>\n",
       "    <tr style=\"text-align: right;\">\n",
       "      <th></th>\n",
       "      <th>bullish_intensity</th>\n",
       "      <th>bearish_intensity</th>\n",
       "      <th>bull_minus_bear</th>\n",
       "      <th>bull_scored_messages</th>\n",
       "      <th>bear_scored_messages</th>\n",
       "      <th>bull_bear_msg_ratio</th>\n",
       "      <th>total_scanned_messages</th>\n",
       "    </tr>\n",
       "  </thead>\n",
       "  <tbody>\n",
       "    <tr>\n",
       "      <th>count</th>\n",
       "      <td>980.000000</td>\n",
       "      <td>980.000000</td>\n",
       "      <td>980.000000</td>\n",
       "      <td>980.000000</td>\n",
       "      <td>980.000000</td>\n",
       "      <td>980.000000</td>\n",
       "      <td>980.000000</td>\n",
       "    </tr>\n",
       "    <tr>\n",
       "      <th>mean</th>\n",
       "      <td>0.647815</td>\n",
       "      <td>0.351168</td>\n",
       "      <td>0.296647</td>\n",
       "      <td>0.773469</td>\n",
       "      <td>0.281633</td>\n",
       "      <td>0.258875</td>\n",
       "      <td>3.564286</td>\n",
       "    </tr>\n",
       "    <tr>\n",
       "      <th>std</th>\n",
       "      <td>0.914357</td>\n",
       "      <td>0.787820</td>\n",
       "      <td>1.071076</td>\n",
       "      <td>1.497601</td>\n",
       "      <td>0.676672</td>\n",
       "      <td>0.971283</td>\n",
       "      <td>5.842935</td>\n",
       "    </tr>\n",
       "    <tr>\n",
       "      <th>min</th>\n",
       "      <td>0.000000</td>\n",
       "      <td>0.000000</td>\n",
       "      <td>-3.000000</td>\n",
       "      <td>0.000000</td>\n",
       "      <td>0.000000</td>\n",
       "      <td>0.000000</td>\n",
       "      <td>0.000000</td>\n",
       "    </tr>\n",
       "    <tr>\n",
       "      <th>25%</th>\n",
       "      <td>0.000000</td>\n",
       "      <td>0.000000</td>\n",
       "      <td>0.000000</td>\n",
       "      <td>0.000000</td>\n",
       "      <td>0.000000</td>\n",
       "      <td>0.000000</td>\n",
       "      <td>0.000000</td>\n",
       "    </tr>\n",
       "    <tr>\n",
       "      <th>50%</th>\n",
       "      <td>0.000000</td>\n",
       "      <td>0.000000</td>\n",
       "      <td>0.000000</td>\n",
       "      <td>0.000000</td>\n",
       "      <td>0.000000</td>\n",
       "      <td>0.000000</td>\n",
       "      <td>1.000000</td>\n",
       "    </tr>\n",
       "    <tr>\n",
       "      <th>75%</th>\n",
       "      <td>1.500000</td>\n",
       "      <td>0.000000</td>\n",
       "      <td>0.970000</td>\n",
       "      <td>1.000000</td>\n",
       "      <td>0.000000</td>\n",
       "      <td>0.000000</td>\n",
       "      <td>4.000000</td>\n",
       "    </tr>\n",
       "    <tr>\n",
       "      <th>max</th>\n",
       "      <td>3.220000</td>\n",
       "      <td>3.670000</td>\n",
       "      <td>3.040000</td>\n",
       "      <td>13.000000</td>\n",
       "      <td>7.000000</td>\n",
       "      <td>11.000000</td>\n",
       "      <td>50.000000</td>\n",
       "    </tr>\n",
       "  </tbody>\n",
       "</table>\n",
       "</div>"
      ],
      "text/plain": [
       "       bullish_intensity  bearish_intensity  bull_minus_bear  \\\n",
       "count         980.000000         980.000000       980.000000   \n",
       "mean            0.647815           0.351168         0.296647   \n",
       "std             0.914357           0.787820         1.071076   \n",
       "min             0.000000           0.000000        -3.000000   \n",
       "25%             0.000000           0.000000         0.000000   \n",
       "50%             0.000000           0.000000         0.000000   \n",
       "75%             1.500000           0.000000         0.970000   \n",
       "max             3.220000           3.670000         3.040000   \n",
       "\n",
       "       bull_scored_messages  bear_scored_messages  bull_bear_msg_ratio  \\\n",
       "count            980.000000            980.000000           980.000000   \n",
       "mean               0.773469              0.281633             0.258875   \n",
       "std                1.497601              0.676672             0.971283   \n",
       "min                0.000000              0.000000             0.000000   \n",
       "25%                0.000000              0.000000             0.000000   \n",
       "50%                0.000000              0.000000             0.000000   \n",
       "75%                1.000000              0.000000             0.000000   \n",
       "max               13.000000              7.000000            11.000000   \n",
       "\n",
       "       total_scanned_messages  \n",
       "count              980.000000  \n",
       "mean                 3.564286  \n",
       "std                  5.842935  \n",
       "min                  0.000000  \n",
       "25%                  0.000000  \n",
       "50%                  1.000000  \n",
       "75%                  4.000000  \n",
       "max                 50.000000  "
      ]
     },
     "execution_count": 15,
     "metadata": {},
     "output_type": "execute_result"
    }
   ],
   "source": [
    "ethereum_df.describe()"
   ]
  },
  {
   "cell_type": "code",
   "execution_count": 17,
   "metadata": {},
   "outputs": [
    {
     "data": {
      "text/html": [
       "<div>\n",
       "<table border=\"1\" class=\"dataframe\">\n",
       "  <thead>\n",
       "    <tr style=\"text-align: right;\">\n",
       "      <th></th>\n",
       "      <th>Date</th>\n",
       "      <th>bullish_intensity</th>\n",
       "      <th>bearish_intensity</th>\n",
       "      <th>bull_minus_bear</th>\n",
       "      <th>bull_scored_messages</th>\n",
       "      <th>bear_scored_messages</th>\n",
       "      <th>bull_bear_msg_ratio</th>\n",
       "      <th>total_scanned_messages</th>\n",
       "    </tr>\n",
       "  </thead>\n",
       "  <tbody>\n",
       "    <tr>\n",
       "      <th>975</th>\n",
       "      <td>2018-04-08</td>\n",
       "      <td>0.000000</td>\n",
       "      <td>2.480000</td>\n",
       "      <td>-2.480000</td>\n",
       "      <td>0.0</td>\n",
       "      <td>1.0</td>\n",
       "      <td>0.0000</td>\n",
       "      <td>3.0</td>\n",
       "    </tr>\n",
       "    <tr>\n",
       "      <th>976</th>\n",
       "      <td>2018-04-09</td>\n",
       "      <td>0.670000</td>\n",
       "      <td>2.500000</td>\n",
       "      <td>-1.830000</td>\n",
       "      <td>1.0</td>\n",
       "      <td>1.0</td>\n",
       "      <td>1.0000</td>\n",
       "      <td>9.0</td>\n",
       "    </tr>\n",
       "    <tr>\n",
       "      <th>977</th>\n",
       "      <td>2018-04-10</td>\n",
       "      <td>1.220000</td>\n",
       "      <td>1.670000</td>\n",
       "      <td>-0.450000</td>\n",
       "      <td>4.0</td>\n",
       "      <td>1.0</td>\n",
       "      <td>4.0000</td>\n",
       "      <td>13.0</td>\n",
       "    </tr>\n",
       "    <tr>\n",
       "      <th>978</th>\n",
       "      <td>2018-04-11</td>\n",
       "      <td>1.710000</td>\n",
       "      <td>1.886667</td>\n",
       "      <td>-0.176667</td>\n",
       "      <td>7.0</td>\n",
       "      <td>3.0</td>\n",
       "      <td>2.3333</td>\n",
       "      <td>26.0</td>\n",
       "    </tr>\n",
       "    <tr>\n",
       "      <th>979</th>\n",
       "      <td>2018-04-12</td>\n",
       "      <td>1.323333</td>\n",
       "      <td>2.900000</td>\n",
       "      <td>-1.576667</td>\n",
       "      <td>3.0</td>\n",
       "      <td>1.0</td>\n",
       "      <td>3.0000</td>\n",
       "      <td>29.0</td>\n",
       "    </tr>\n",
       "  </tbody>\n",
       "</table>\n",
       "</div>"
      ],
      "text/plain": [
       "          Date  bullish_intensity  bearish_intensity  bull_minus_bear  \\\n",
       "975 2018-04-08           0.000000           2.480000        -2.480000   \n",
       "976 2018-04-09           0.670000           2.500000        -1.830000   \n",
       "977 2018-04-10           1.220000           1.670000        -0.450000   \n",
       "978 2018-04-11           1.710000           1.886667        -0.176667   \n",
       "979 2018-04-12           1.323333           2.900000        -1.576667   \n",
       "\n",
       "     bull_scored_messages  bear_scored_messages  bull_bear_msg_ratio  \\\n",
       "975                   0.0                   1.0               0.0000   \n",
       "976                   1.0                   1.0               1.0000   \n",
       "977                   4.0                   1.0               4.0000   \n",
       "978                   7.0                   3.0               2.3333   \n",
       "979                   3.0                   1.0               3.0000   \n",
       "\n",
       "     total_scanned_messages  \n",
       "975                     3.0  \n",
       "976                     9.0  \n",
       "977                    13.0  \n",
       "978                    26.0  \n",
       "979                    29.0  "
      ]
     },
     "execution_count": 17,
     "metadata": {},
     "output_type": "execute_result"
    }
   ],
   "source": [
    "ethereum_df.tail()"
   ]
  },
  {
   "cell_type": "code",
   "execution_count": 18,
   "metadata": {},
   "outputs": [
    {
     "ename": "SandboxViolation",
     "evalue": "Blacklisted attribute within module to_csv",
     "output_type": "error",
     "traceback": [
      "InputRejected:",
      "Blacklisted attribute within module to_csv"
     ]
    }
   ],
   "source": [
    "ethereum_df.to_csv()"
   ]
  },
  {
   "cell_type": "code",
   "execution_count": null,
   "metadata": {
    "collapsed": true
   },
   "outputs": [],
   "source": []
  }
 ],
 "metadata": {
  "kernelspec": {
   "display_name": "Python 3",
   "language": "python",
   "name": "python3"
  },
  "language_info": {
   "codemirror_mode": {
    "name": "ipython",
    "version": 3
   },
   "file_extension": ".py",
   "mimetype": "text/x-python",
   "name": "python",
   "nbconvert_exporter": "python",
   "pygments_lexer": "ipython3",
   "version": "3.6.4"
  }
 },
 "nbformat": 4,
 "nbformat_minor": 1
}
