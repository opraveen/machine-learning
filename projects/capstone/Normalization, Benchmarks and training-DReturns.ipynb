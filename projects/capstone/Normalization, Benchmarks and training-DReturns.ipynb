{
 "cells": [
  {
   "cell_type": "code",
   "execution_count": 1,
   "metadata": {},
   "outputs": [
    {
     "name": "stderr",
     "output_type": "stream",
     "text": [
      "Using TensorFlow backend.\n"
     ]
    },
    {
     "name": "stdout",
     "output_type": "stream",
     "text": [
      "2.1.4\n"
     ]
    }
   ],
   "source": [
    "import pandas as pd\n",
    "import time\n",
    "import seaborn as sns\n",
    "import matplotlib.pyplot as plt\n",
    "import datetime\n",
    "import numpy as np\n",
    "\n",
    "import keras\n",
    "\n",
    "from sklearn.model_selection import TimeSeriesSplit, GridSearchCV\n",
    "\n",
    "# import the relevant Keras modules\n",
    "from keras.models import Sequential\n",
    "from keras.layers import Activation, Dense\n",
    "from keras.layers import LSTM\n",
    "from keras.layers import Dropout\n",
    "from keras.wrappers.scikit_learn import KerasRegressor\n",
    "from keras.optimizers import SGD\n",
    "from keras.constraints import maxnorm\n",
    "\n",
    "import keras\n",
    "print (keras.__version__)\n",
    "\n",
    "%matplotlib inline\n",
    "sns.set(style=\"white\")\n",
    "\n",
    "import matplotlib\n",
    "matplotlib.rcParams['figure.figsize'] = [12, 8] # width, height"
   ]
  },
  {
   "cell_type": "code",
   "execution_count": 2,
   "metadata": {},
   "outputs": [],
   "source": [
    "# Configuration \n",
    "\n",
    "# Data sources\n",
    "include_bitcoin = 1\n",
    "include_ethereum = 1\n",
    "include_litecoin = 1\n",
    "include_ripple = 1\n",
    "include_goog_trends = 1\n",
    "include_stocktwits = 0\n",
    "\n",
    "# Data duration (training + test)\n",
    "start_date_ = '2015-08-07'\n",
    "end_date_ = '2018-04-18'\n",
    "\n",
    "start_date = start_date_.replace(\"-\", \"\")\n",
    "end_date = end_date_.replace(\"-\", \"\")\n",
    "\n",
    "# split_date = '2018-02-02'\n",
    "split_date = '2018-01-20'  # >10% of full dataset\n",
    "\n",
    "# Target : Predict bitcoin (OR ethereum) daily returns OR volatility \n",
    "target = 'btc_daily_ret'\n",
    "# target = 'btc_volatility'\n",
    "\n",
    "# target = 'eth_daily_ret'\n",
    "# target = 'eth_volatility'\n",
    "\n",
    "\n",
    "coins = ['bitcoin', 'ethereum', 'litecoin', 'ripple']\n",
    "coin_symbol = {'bitcoin': 'btc', 'ethereum': 'eth', 'litecoin': 'ltc', 'ripple': 'xrp'}\n"
   ]
  },
  {
   "cell_type": "code",
   "execution_count": 3,
   "metadata": {},
   "outputs": [],
   "source": [
    "# Load dataset\n",
    "dataset_df = pd.read_pickle(\"data/full_dataset.pkl\")"
   ]
  },
  {
   "cell_type": "code",
   "execution_count": 4,
   "metadata": {},
   "outputs": [
    {
     "data": {
      "text/html": [
       "<div>\n",
       "<style scoped>\n",
       "    .dataframe tbody tr th:only-of-type {\n",
       "        vertical-align: middle;\n",
       "    }\n",
       "\n",
       "    .dataframe tbody tr th {\n",
       "        vertical-align: top;\n",
       "    }\n",
       "\n",
       "    .dataframe thead th {\n",
       "        text-align: right;\n",
       "    }\n",
       "</style>\n",
       "<table border=\"1\" class=\"dataframe\">\n",
       "  <thead>\n",
       "    <tr style=\"text-align: right;\">\n",
       "      <th></th>\n",
       "      <th>Date</th>\n",
       "      <th>btc_Close</th>\n",
       "      <th>btc_Volume</th>\n",
       "      <th>eth_Close</th>\n",
       "      <th>eth_Volume</th>\n",
       "      <th>ltc_Close</th>\n",
       "      <th>ltc_Volume</th>\n",
       "      <th>xrp_Close</th>\n",
       "      <th>xrp_Volume</th>\n",
       "      <th>btc_close_off_high</th>\n",
       "      <th>...</th>\n",
       "      <th>ltc_30day_ret</th>\n",
       "      <th>xrp_close_off_high</th>\n",
       "      <th>xrp_volatility</th>\n",
       "      <th>xrp_daily_ret</th>\n",
       "      <th>xrp_7day_ret</th>\n",
       "      <th>xrp_30day_ret</th>\n",
       "      <th>btc_trends</th>\n",
       "      <th>eth_trends</th>\n",
       "      <th>ltc_trends</th>\n",
       "      <th>xrp_trends</th>\n",
       "    </tr>\n",
       "  </thead>\n",
       "  <tbody>\n",
       "    <tr>\n",
       "      <th>0</th>\n",
       "      <td>2015-08-07</td>\n",
       "      <td>279.58</td>\n",
       "      <td>42484800</td>\n",
       "      <td>2.770000</td>\n",
       "      <td>164329</td>\n",
       "      <td>4.21</td>\n",
       "      <td>4192810</td>\n",
       "      <td>0.008152</td>\n",
       "      <td>363643</td>\n",
       "      <td>0.597015</td>\n",
       "      <td>...</td>\n",
       "      <td>0.036946</td>\n",
       "      <td>0.987805</td>\n",
       "      <td>0.020449</td>\n",
       "      <td>0.016459</td>\n",
       "      <td>0.016459</td>\n",
       "      <td>0.016459</td>\n",
       "      <td>29.0</td>\n",
       "      <td>62.0</td>\n",
       "      <td>69.0</td>\n",
       "      <td>78.0</td>\n",
       "    </tr>\n",
       "    <tr>\n",
       "      <th>1</th>\n",
       "      <td>2015-08-08</td>\n",
       "      <td>261.00</td>\n",
       "      <td>58533000</td>\n",
       "      <td>0.753325</td>\n",
       "      <td>674188</td>\n",
       "      <td>3.85</td>\n",
       "      <td>4917730</td>\n",
       "      <td>0.008476</td>\n",
       "      <td>678295</td>\n",
       "      <td>-0.969823</td>\n",
       "      <td>...</td>\n",
       "      <td>-0.087678</td>\n",
       "      <td>0.147059</td>\n",
       "      <td>0.066634</td>\n",
       "      <td>0.038217</td>\n",
       "      <td>0.038217</td>\n",
       "      <td>0.038217</td>\n",
       "      <td>33.0</td>\n",
       "      <td>35.0</td>\n",
       "      <td>42.0</td>\n",
       "      <td>64.0</td>\n",
       "    </tr>\n",
       "    <tr>\n",
       "      <th>2</th>\n",
       "      <td>2015-08-09</td>\n",
       "      <td>265.08</td>\n",
       "      <td>23789600</td>\n",
       "      <td>0.701897</td>\n",
       "      <td>532170</td>\n",
       "      <td>3.90</td>\n",
       "      <td>3064680</td>\n",
       "      <td>0.008808</td>\n",
       "      <td>531969</td>\n",
       "      <td>0.411945</td>\n",
       "      <td>...</td>\n",
       "      <td>0.015625</td>\n",
       "      <td>0.914530</td>\n",
       "      <td>0.041372</td>\n",
       "      <td>0.038190</td>\n",
       "      <td>0.038190</td>\n",
       "      <td>0.038190</td>\n",
       "      <td>30.0</td>\n",
       "      <td>42.0</td>\n",
       "      <td>45.0</td>\n",
       "      <td>70.0</td>\n",
       "    </tr>\n",
       "    <tr>\n",
       "      <th>3</th>\n",
       "      <td>2015-08-10</td>\n",
       "      <td>264.47</td>\n",
       "      <td>20979400</td>\n",
       "      <td>0.708448</td>\n",
       "      <td>405283</td>\n",
       "      <td>3.95</td>\n",
       "      <td>2239890</td>\n",
       "      <td>0.008750</td>\n",
       "      <td>472973</td>\n",
       "      <td>-0.155756</td>\n",
       "      <td>...</td>\n",
       "      <td>0.012821</td>\n",
       "      <td>-0.949686</td>\n",
       "      <td>0.018044</td>\n",
       "      <td>-0.007036</td>\n",
       "      <td>-0.007036</td>\n",
       "      <td>-0.007036</td>\n",
       "      <td>32.0</td>\n",
       "      <td>38.0</td>\n",
       "      <td>45.0</td>\n",
       "      <td>67.0</td>\n",
       "    </tr>\n",
       "    <tr>\n",
       "      <th>4</th>\n",
       "      <td>2015-08-11</td>\n",
       "      <td>270.39</td>\n",
       "      <td>25433900</td>\n",
       "      <td>1.070000</td>\n",
       "      <td>1463100</td>\n",
       "      <td>4.16</td>\n",
       "      <td>3426300</td>\n",
       "      <td>0.008591</td>\n",
       "      <td>282461</td>\n",
       "      <td>1.000000</td>\n",
       "      <td>...</td>\n",
       "      <td>0.053165</td>\n",
       "      <td>-1.000000</td>\n",
       "      <td>0.019998</td>\n",
       "      <td>-0.018284</td>\n",
       "      <td>-0.018284</td>\n",
       "      <td>-0.018284</td>\n",
       "      <td>29.0</td>\n",
       "      <td>40.0</td>\n",
       "      <td>48.0</td>\n",
       "      <td>59.0</td>\n",
       "    </tr>\n",
       "  </tbody>\n",
       "</table>\n",
       "<p>5 rows × 33 columns</p>\n",
       "</div>"
      ],
      "text/plain": [
       "        Date  btc_Close  btc_Volume  eth_Close  eth_Volume  ltc_Close  \\\n",
       "0 2015-08-07     279.58    42484800   2.770000      164329       4.21   \n",
       "1 2015-08-08     261.00    58533000   0.753325      674188       3.85   \n",
       "2 2015-08-09     265.08    23789600   0.701897      532170       3.90   \n",
       "3 2015-08-10     264.47    20979400   0.708448      405283       3.95   \n",
       "4 2015-08-11     270.39    25433900   1.070000     1463100       4.16   \n",
       "\n",
       "   ltc_Volume  xrp_Close  xrp_Volume  btc_close_off_high     ...      \\\n",
       "0     4192810   0.008152      363643            0.597015     ...       \n",
       "1     4917730   0.008476      678295           -0.969823     ...       \n",
       "2     3064680   0.008808      531969            0.411945     ...       \n",
       "3     2239890   0.008750      472973           -0.155756     ...       \n",
       "4     3426300   0.008591      282461            1.000000     ...       \n",
       "\n",
       "   ltc_30day_ret  xrp_close_off_high  xrp_volatility  xrp_daily_ret  \\\n",
       "0       0.036946            0.987805        0.020449       0.016459   \n",
       "1      -0.087678            0.147059        0.066634       0.038217   \n",
       "2       0.015625            0.914530        0.041372       0.038190   \n",
       "3       0.012821           -0.949686        0.018044      -0.007036   \n",
       "4       0.053165           -1.000000        0.019998      -0.018284   \n",
       "\n",
       "   xrp_7day_ret  xrp_30day_ret  btc_trends  eth_trends  ltc_trends  xrp_trends  \n",
       "0      0.016459       0.016459        29.0        62.0        69.0        78.0  \n",
       "1      0.038217       0.038217        33.0        35.0        42.0        64.0  \n",
       "2      0.038190       0.038190        30.0        42.0        45.0        70.0  \n",
       "3     -0.007036      -0.007036        32.0        38.0        45.0        67.0  \n",
       "4     -0.018284      -0.018284        29.0        40.0        48.0        59.0  \n",
       "\n",
       "[5 rows x 33 columns]"
      ]
     },
     "execution_count": 4,
     "metadata": {},
     "output_type": "execute_result"
    }
   ],
   "source": [
    "dataset_df.head()"
   ]
  },
  {
   "cell_type": "code",
   "execution_count": 5,
   "metadata": {},
   "outputs": [
    {
     "data": {
      "image/png": "[encoded data removed]",
      "text/plain": [
       "<matplotlib.figure.Figure at 0x115689bccc0>"
      ]
     },
     "metadata": {},
     "output_type": "display_data"
    }
   ],
   "source": [
    "fig, (ax1, ax2) = plt.subplots(2,1)\n",
    "ax1.set_xticks([datetime.date(i,j,1) for i in range(2013,2019) for j in [1,7]])\n",
    "ax1.set_xticklabels('')\n",
    "ax2.set_xticks([datetime.date(i,j,1) for i in range(2013,2019) for j in [1,7]])\n",
    "ax2.set_xticklabels([datetime.date(i,j,1).strftime('%b %Y')  for i in range(2013,2019) for j in [1,7]])\n",
    "ax1.plot(dataset_df[dataset_df['Date'] < split_date]['Date'].astype(datetime.datetime),\n",
    "         dataset_df[dataset_df['Date'] < split_date]['btc_daily_ret'], \n",
    "         color='#B08FC7', label='Training')\n",
    "ax1.plot(dataset_df[dataset_df['Date'] >= split_date]['Date'].astype(datetime.datetime),\n",
    "         dataset_df[dataset_df['Date'] >= split_date]['btc_daily_ret'], \n",
    "         color='#8FBAC8', label='Test')\n",
    "ax2.plot(dataset_df[dataset_df['Date'] < split_date]['Date'].astype(datetime.datetime),\n",
    "         dataset_df[dataset_df['Date'] < split_date]['eth_daily_ret'], \n",
    "         color='#B08FC7')\n",
    "ax2.plot(dataset_df[dataset_df['Date'] >= split_date]['Date'].astype(datetime.datetime),\n",
    "         dataset_df[dataset_df['Date'] >= split_date]['eth_daily_ret'], color='#8FBAC8')\n",
    "ax1.set_xticklabels('')\n",
    "ax1.set_ylabel('Bitcoin Daily returns ($)',fontsize=12)\n",
    "ax2.set_ylabel('Ethereum Daily returns ($)',fontsize=12)\n",
    "plt.tight_layout()\n",
    "ax1.legend(bbox_to_anchor=(0.03, 1), loc=2, borderaxespad=0., prop={'size': 14})\n",
    "# fig.figimage(bitcoin_im.resize((int(bitcoin_im.size[0]*0.65), int(bitcoin_im.size[1]*0.65)), Image.ANTIALIAS), \n",
    "#              200, 260, zorder=3,alpha=.5)\n",
    "# fig.figimage(eth_im.resize((int(eth_im.size[0]*0.65), int(eth_im.size[1]*0.65)), Image.ANTIALIAS), \n",
    "#              350, 40, zorder=3,alpha=.5)\n",
    "plt.show()"
   ]
  },
  {
   "cell_type": "code",
   "execution_count": 6,
   "metadata": {},
   "outputs": [
    {
     "data": {
      "image/png": "[encoded data removed]",
      "text/plain": [
       "<matplotlib.figure.Figure at 0x115689c9f98>"
      ]
     },
     "metadata": {},
     "output_type": "display_data"
    }
   ],
   "source": [
    "fig, (ax1, ax2) = plt.subplots(2,1)\n",
    "ax1.set_xticks([datetime.date(i,j,1) for i in range(2013,2019) for j in [1,7]])\n",
    "ax1.set_xticklabels('')\n",
    "ax2.set_xticks([datetime.date(i,j,1) for i in range(2013,2019) for j in [1,7]])\n",
    "ax2.set_xticklabels([datetime.date(i,j,1).strftime('%b %Y')  for i in range(2013,2019) for j in [1,7]])\n",
    "ax1.plot(dataset_df[dataset_df['Date'] < split_date]['Date'].astype(datetime.datetime),\n",
    "         dataset_df[dataset_df['Date'] < split_date]['btc_volatility'], \n",
    "         color='#B08FC7', label='Training')\n",
    "ax1.plot(dataset_df[dataset_df['Date'] >= split_date]['Date'].astype(datetime.datetime),\n",
    "         dataset_df[dataset_df['Date'] >= split_date]['btc_volatility'], \n",
    "         color='#8FBAC8', label='Test')\n",
    "ax2.plot(dataset_df[dataset_df['Date'] < split_date]['Date'].astype(datetime.datetime),\n",
    "         dataset_df[dataset_df['Date'] < split_date]['eth_volatility'], \n",
    "         color='#B08FC7')\n",
    "ax2.plot(dataset_df[dataset_df['Date'] >= split_date]['Date'].astype(datetime.datetime),\n",
    "         dataset_df[dataset_df['Date'] >= split_date]['eth_volatility'], color='#8FBAC8')\n",
    "ax1.set_xticklabels('')\n",
    "ax1.set_ylabel('Bitcoin Daily Volatility ($)',fontsize=12)\n",
    "ax2.set_ylabel('Ethereum Daily Volatility ($)',fontsize=12)\n",
    "plt.tight_layout()\n",
    "ax1.legend(bbox_to_anchor=(0.03, 1), loc=2, borderaxespad=0., prop={'size': 14})\n",
    "# fig.figimage(bitcoin_im.resize((int(bitcoin_im.size[0]*0.65), int(bitcoin_im.size[1]*0.65)), Image.ANTIALIAS), \n",
    "#              200, 260, zorder=3,alpha=.5)\n",
    "# fig.figimage(eth_im.resize((int(eth_im.size[0]*0.65), int(eth_im.size[1]*0.65)), Image.ANTIALIAS), \n",
    "#              350, 40, zorder=3,alpha=.5)\n",
    "plt.show()"
   ]
  },
  {
   "cell_type": "code",
   "execution_count": 7,
   "metadata": {},
   "outputs": [
    {
     "data": {
      "text/plain": [
       "<matplotlib.axes._subplots.AxesSubplot at 0x115689bc898>"
      ]
     },
     "execution_count": 7,
     "metadata": {},
     "output_type": "execute_result"
    },
    {
     "data": {
      "image/png": "[encoded data removed]",
      "text/plain": [
       "<matplotlib.figure.Figure at 0x115689bc390>"
      ]
     },
     "metadata": {},
     "output_type": "display_data"
    }
   ],
   "source": [
    "sns.kdeplot(dataset_df['eth_volatility'])"
   ]
  },
  {
   "cell_type": "code",
   "execution_count": 8,
   "metadata": {},
   "outputs": [
    {
     "data": {
      "text/plain": [
       "<matplotlib.axes._subplots.AxesSubplot at 0x115689c72b0>"
      ]
     },
     "execution_count": 8,
     "metadata": {},
     "output_type": "execute_result"
    },
    {
     "data": {
      "image/png": "[encoded data removed]",
      "text/plain": [
       "<matplotlib.figure.Figure at 0x11569f3c400>"
      ]
     },
     "metadata": {},
     "output_type": "display_data"
    }
   ],
   "source": [
    "sns.kdeplot(np.log(dataset_df['eth_volatility']))"
   ]
  },
  {
   "cell_type": "code",
   "execution_count": 9,
   "metadata": {},
   "outputs": [
    {
     "data": {
      "text/plain": [
       "<matplotlib.axes._subplots.AxesSubplot at 0x1156a0115f8>"
      ]
     },
     "execution_count": 9,
     "metadata": {},
     "output_type": "execute_result"
    },
    {
     "data": {
      "image/png": "[encoded data removed]",
      "text/plain": [
       "<matplotlib.figure.Figure at 0x1156a006748>"
      ]
     },
     "metadata": {},
     "output_type": "display_data"
    }
   ],
   "source": [
    "sns.kdeplot(dataset_df['btc_volatility'])"
   ]
  },
  {
   "cell_type": "code",
   "execution_count": 10,
   "metadata": {},
   "outputs": [
    {
     "data": {
      "text/plain": [
       "<matplotlib.axes._subplots.AxesSubplot at 0x1156a094588>"
      ]
     },
     "execution_count": 10,
     "metadata": {},
     "output_type": "execute_result"
    },
    {
     "data": {
      "image/png": "[encoded data removed]",
      "text/plain": [
       "<matplotlib.figure.Figure at 0x1156a017588>"
      ]
     },
     "metadata": {},
     "output_type": "display_data"
    }
   ],
   "source": [
    "sns.kdeplot(np.log(dataset_df['btc_volatility']))"
   ]
  },
  {
   "cell_type": "code",
   "execution_count": 11,
   "metadata": {},
   "outputs": [],
   "source": [
    "dataset_df['eth_volatility'] = np.log(dataset_df['eth_volatility'])\n",
    "dataset_df['btc_volatility'] = np.log(dataset_df['btc_volatility'])"
   ]
  },
  {
   "cell_type": "markdown",
   "metadata": {},
   "source": [
    "# Benchmarks\n",
    "\n",
    "Benchmark -I: Price-Persistent model, assumes the close price is same as the previous day. Implies that the estimated daily returns and volatility are both zero\n",
    "\n",
    "Benchmark - II: Market-Persistent model, assumes the daily returns is same as the previous day. Implies the estimated daily returns and volatility are same as the previous day."
   ]
  },
  {
   "cell_type": "code",
   "execution_count": 12,
   "metadata": {},
   "outputs": [
    {
     "name": "stdout",
     "output_type": "stream",
     "text": [
      "Predicting: btc_daily_ret\n",
      "Benchmark-I: MAE 0.043559162044812666\n",
      "Benchmark-I: MSE 0.0030647863135465233\n"
     ]
    }
   ],
   "source": [
    "## Price-PERSISTENT MODEL: Benchmark-I\n",
    "\n",
    "print (\"Predicting:\", target)\n",
    "\n",
    "# Evaluate on test dataset\n",
    "# no change from previous day => pred_bitcoin = 0 (percent change) for persistence model\n",
    "actual_target = dataset_df[dataset_df['Date']>= split_date][target].values\n",
    "# pred_target = 0\n",
    "\n",
    "bm1_mae = np.mean(np.absolute((actual_target)))\n",
    "bm1_mse = np.mean(np.square((actual_target)))\n",
    "\n",
    "print(\"Benchmark-I: MAE\", bm1_mae)\n",
    "print(\"Benchmark-I: MSE\", bm1_mse)"
   ]
  },
  {
   "cell_type": "code",
   "execution_count": 13,
   "metadata": {},
   "outputs": [
    {
     "name": "stdout",
     "output_type": "stream",
     "text": [
      "Benchmark-II: MAE 0.06423221532726005\n",
      "Benchmark-II: MSE 0.006363817757120959\n"
     ]
    }
   ],
   "source": [
    "## Market-PERSISTENT MODEL: Benchmark-II\n",
    "\n",
    "# Evaluate on test dataset\n",
    "# same market behavior as previous day\n",
    "pred_target = dataset_df[dataset_df['Date']>= datetime.datetime.strptime(split_date, '%Y-%m-%d') - \n",
    "                      datetime.timedelta(days=1)][target][:-1].values\n",
    "\n",
    "bm2_mae = np.mean(np.absolute((actual_target-pred_target)))\n",
    "bm2_mse = np.mean(np.square((actual_target-pred_target)))\n",
    "\n",
    "print(\"Benchmark-II: MAE\", bm2_mae)\n",
    "print(\"Benchmark-II: MSE\", bm2_mse)"
   ]
  },
  {
   "cell_type": "code",
   "execution_count": 14,
   "metadata": {},
   "outputs": [
    {
     "data": {
      "text/html": [
       "<div>\n",
       "<style scoped>\n",
       "    .dataframe tbody tr th:only-of-type {\n",
       "        vertical-align: middle;\n",
       "    }\n",
       "\n",
       "    .dataframe tbody tr th {\n",
       "        vertical-align: top;\n",
       "    }\n",
       "\n",
       "    .dataframe thead th {\n",
       "        text-align: right;\n",
       "    }\n",
       "</style>\n",
       "<table border=\"1\" class=\"dataframe\">\n",
       "  <thead>\n",
       "    <tr style=\"text-align: right;\">\n",
       "      <th></th>\n",
       "      <th>Date</th>\n",
       "      <th>btc_Close</th>\n",
       "      <th>btc_Volume</th>\n",
       "      <th>eth_Close</th>\n",
       "      <th>eth_Volume</th>\n",
       "      <th>ltc_Close</th>\n",
       "      <th>ltc_Volume</th>\n",
       "      <th>xrp_Close</th>\n",
       "      <th>xrp_Volume</th>\n",
       "      <th>btc_close_off_high</th>\n",
       "      <th>...</th>\n",
       "      <th>ltc_30day_ret</th>\n",
       "      <th>xrp_close_off_high</th>\n",
       "      <th>xrp_volatility</th>\n",
       "      <th>xrp_daily_ret</th>\n",
       "      <th>xrp_7day_ret</th>\n",
       "      <th>xrp_30day_ret</th>\n",
       "      <th>btc_trends</th>\n",
       "      <th>eth_trends</th>\n",
       "      <th>ltc_trends</th>\n",
       "      <th>xrp_trends</th>\n",
       "    </tr>\n",
       "  </thead>\n",
       "  <tbody>\n",
       "    <tr>\n",
       "      <th>0</th>\n",
       "      <td>2015-08-07</td>\n",
       "      <td>279.58</td>\n",
       "      <td>42484800</td>\n",
       "      <td>2.770000</td>\n",
       "      <td>164329</td>\n",
       "      <td>4.21</td>\n",
       "      <td>4192810</td>\n",
       "      <td>0.008152</td>\n",
       "      <td>363643</td>\n",
       "      <td>0.597015</td>\n",
       "      <td>...</td>\n",
       "      <td>0.036946</td>\n",
       "      <td>0.987805</td>\n",
       "      <td>0.020449</td>\n",
       "      <td>0.016459</td>\n",
       "      <td>0.016459</td>\n",
       "      <td>0.016459</td>\n",
       "      <td>29.0</td>\n",
       "      <td>62.0</td>\n",
       "      <td>69.0</td>\n",
       "      <td>78.0</td>\n",
       "    </tr>\n",
       "    <tr>\n",
       "      <th>1</th>\n",
       "      <td>2015-08-08</td>\n",
       "      <td>261.00</td>\n",
       "      <td>58533000</td>\n",
       "      <td>0.753325</td>\n",
       "      <td>674188</td>\n",
       "      <td>3.85</td>\n",
       "      <td>4917730</td>\n",
       "      <td>0.008476</td>\n",
       "      <td>678295</td>\n",
       "      <td>-0.969823</td>\n",
       "      <td>...</td>\n",
       "      <td>-0.087678</td>\n",
       "      <td>0.147059</td>\n",
       "      <td>0.066634</td>\n",
       "      <td>0.038217</td>\n",
       "      <td>0.038217</td>\n",
       "      <td>0.038217</td>\n",
       "      <td>33.0</td>\n",
       "      <td>35.0</td>\n",
       "      <td>42.0</td>\n",
       "      <td>64.0</td>\n",
       "    </tr>\n",
       "    <tr>\n",
       "      <th>2</th>\n",
       "      <td>2015-08-09</td>\n",
       "      <td>265.08</td>\n",
       "      <td>23789600</td>\n",
       "      <td>0.701897</td>\n",
       "      <td>532170</td>\n",
       "      <td>3.90</td>\n",
       "      <td>3064680</td>\n",
       "      <td>0.008808</td>\n",
       "      <td>531969</td>\n",
       "      <td>0.411945</td>\n",
       "      <td>...</td>\n",
       "      <td>0.015625</td>\n",
       "      <td>0.914530</td>\n",
       "      <td>0.041372</td>\n",
       "      <td>0.038190</td>\n",
       "      <td>0.038190</td>\n",
       "      <td>0.038190</td>\n",
       "      <td>30.0</td>\n",
       "      <td>42.0</td>\n",
       "      <td>45.0</td>\n",
       "      <td>70.0</td>\n",
       "    </tr>\n",
       "    <tr>\n",
       "      <th>3</th>\n",
       "      <td>2015-08-10</td>\n",
       "      <td>264.47</td>\n",
       "      <td>20979400</td>\n",
       "      <td>0.708448</td>\n",
       "      <td>405283</td>\n",
       "      <td>3.95</td>\n",
       "      <td>2239890</td>\n",
       "      <td>0.008750</td>\n",
       "      <td>472973</td>\n",
       "      <td>-0.155756</td>\n",
       "      <td>...</td>\n",
       "      <td>0.012821</td>\n",
       "      <td>-0.949686</td>\n",
       "      <td>0.018044</td>\n",
       "      <td>-0.007036</td>\n",
       "      <td>-0.007036</td>\n",
       "      <td>-0.007036</td>\n",
       "      <td>32.0</td>\n",
       "      <td>38.0</td>\n",
       "      <td>45.0</td>\n",
       "      <td>67.0</td>\n",
       "    </tr>\n",
       "    <tr>\n",
       "      <th>4</th>\n",
       "      <td>2015-08-11</td>\n",
       "      <td>270.39</td>\n",
       "      <td>25433900</td>\n",
       "      <td>1.070000</td>\n",
       "      <td>1463100</td>\n",
       "      <td>4.16</td>\n",
       "      <td>3426300</td>\n",
       "      <td>0.008591</td>\n",
       "      <td>282461</td>\n",
       "      <td>1.000000</td>\n",
       "      <td>...</td>\n",
       "      <td>0.053165</td>\n",
       "      <td>-1.000000</td>\n",
       "      <td>0.019998</td>\n",
       "      <td>-0.018284</td>\n",
       "      <td>-0.018284</td>\n",
       "      <td>-0.018284</td>\n",
       "      <td>29.0</td>\n",
       "      <td>40.0</td>\n",
       "      <td>48.0</td>\n",
       "      <td>59.0</td>\n",
       "    </tr>\n",
       "  </tbody>\n",
       "</table>\n",
       "<p>5 rows × 33 columns</p>\n",
       "</div>"
      ],
      "text/plain": [
       "        Date  btc_Close  btc_Volume  eth_Close  eth_Volume  ltc_Close  \\\n",
       "0 2015-08-07     279.58    42484800   2.770000      164329       4.21   \n",
       "1 2015-08-08     261.00    58533000   0.753325      674188       3.85   \n",
       "2 2015-08-09     265.08    23789600   0.701897      532170       3.90   \n",
       "3 2015-08-10     264.47    20979400   0.708448      405283       3.95   \n",
       "4 2015-08-11     270.39    25433900   1.070000     1463100       4.16   \n",
       "\n",
       "   ltc_Volume  xrp_Close  xrp_Volume  btc_close_off_high     ...      \\\n",
       "0     4192810   0.008152      363643            0.597015     ...       \n",
       "1     4917730   0.008476      678295           -0.969823     ...       \n",
       "2     3064680   0.008808      531969            0.411945     ...       \n",
       "3     2239890   0.008750      472973           -0.155756     ...       \n",
       "4     3426300   0.008591      282461            1.000000     ...       \n",
       "\n",
       "   ltc_30day_ret  xrp_close_off_high  xrp_volatility  xrp_daily_ret  \\\n",
       "0       0.036946            0.987805        0.020449       0.016459   \n",
       "1      -0.087678            0.147059        0.066634       0.038217   \n",
       "2       0.015625            0.914530        0.041372       0.038190   \n",
       "3       0.012821           -0.949686        0.018044      -0.007036   \n",
       "4       0.053165           -1.000000        0.019998      -0.018284   \n",
       "\n",
       "   xrp_7day_ret  xrp_30day_ret  btc_trends  eth_trends  ltc_trends  xrp_trends  \n",
       "0      0.016459       0.016459        29.0        62.0        69.0        78.0  \n",
       "1      0.038217       0.038217        33.0        35.0        42.0        64.0  \n",
       "2      0.038190       0.038190        30.0        42.0        45.0        70.0  \n",
       "3     -0.007036      -0.007036        32.0        38.0        45.0        67.0  \n",
       "4     -0.018284      -0.018284        29.0        40.0        48.0        59.0  \n",
       "\n",
       "[5 rows x 33 columns]"
      ]
     },
     "execution_count": 14,
     "metadata": {},
     "output_type": "execute_result"
    }
   ],
   "source": [
    "## LSTM Begins\n",
    "symbols_ = [symbol+\"_\" for symbol in list(coin_symbol.values())]\n",
    "\n",
    "model_data = dataset_df\n",
    "model_data.head()"
   ]
  },
  {
   "cell_type": "code",
   "execution_count": 15,
   "metadata": {},
   "outputs": [],
   "source": [
    "# LSTM Parameters\n",
    "window_len = 7 # 2 # 7 # 14 # 30\n",
    "\n",
    "training_set, test_set = model_data[model_data['Date']<split_date], \\\n",
    "                         model_data[model_data['Date']>=datetime.datetime.strptime(split_date, '%Y-%m-%d')-datetime.timedelta(days=window_len)]\n",
    "\n",
    "# we don't need the date columns anymore\n",
    "########### DONT'WE ?? - If we are to cross-validation, we need the dates!! or we just use the index?\n",
    "training_set = training_set.drop('Date', 1)\n",
    "test_set = test_set.drop('Date', 1)"
   ]
  },
  {
   "cell_type": "code",
   "execution_count": 16,
   "metadata": {},
   "outputs": [
    {
     "data": {
      "text/plain": [
       "[['btc_Close',\n",
       "  'btc_Volume',\n",
       "  'eth_Close',\n",
       "  'eth_Volume',\n",
       "  'ltc_Close',\n",
       "  'ltc_Volume',\n",
       "  'xrp_Close',\n",
       "  'xrp_Volume',\n",
       "  'btc_trends',\n",
       "  'eth_trends',\n",
       "  'ltc_trends',\n",
       "  'xrp_trends']]"
      ]
     },
     "execution_count": 16,
     "metadata": {},
     "output_type": "execute_result"
    }
   ],
   "source": [
    "no_of_features = training_set.shape[1]\n",
    "\n",
    "# Columns to be normalized - Instead of traditional normalization aschemes (like MinMax on training_set), \n",
    "# normalize the columns w.r.t to the first element of the window s.t the normalized first element would be 0 \n",
    "# Reference: \n",
    "norm_cols = [[symbol+metric for symbol in symbols_ for metric in ['Close','Volume']]          \n",
    "             +[coin_symbol[coin]+\"_trends\" for coin in coins]]\n",
    "\n",
    "norm_cols"
   ]
  },
  {
   "cell_type": "code",
   "execution_count": 17,
   "metadata": {},
   "outputs": [],
   "source": [
    "LSTM_training_inputs = []\n",
    "for i in range(len(training_set)-window_len):\n",
    "    temp_set = training_set[i:(i+window_len)].copy()\n",
    "    for col in norm_cols:\n",
    "        temp_set.loc[:, col] = temp_set[col]/temp_set[col].iloc[0] - 1\n",
    "    LSTM_training_inputs.append(temp_set)\n",
    "\n",
    "# model output is next price normalised to 10th previous closing price\n",
    "LSTM_training_outputs = training_set[target][window_len:].values"
   ]
  },
  {
   "cell_type": "code",
   "execution_count": 18,
   "metadata": {},
   "outputs": [
    {
     "name": "stdout",
     "output_type": "stream",
     "text": [
      "897\n",
      "96\n"
     ]
    }
   ],
   "source": [
    "LSTM_test_inputs = []\n",
    "for i in range(len(test_set)-window_len):\n",
    "    temp_set = test_set[i:(i+window_len)].copy()\n",
    "    for col in norm_cols:\n",
    "        temp_set.loc[:, col] = temp_set[col]/temp_set[col].iloc[0] - 1\n",
    "    LSTM_test_inputs.append(temp_set)\n",
    "\n",
    "LSTM_test_outputs = test_set[target][window_len:].values\n",
    "\n",
    "print(len(training_set))\n",
    "print(len(test_set))"
   ]
  },
  {
   "cell_type": "code",
   "execution_count": 19,
   "metadata": {},
   "outputs": [
    {
     "name": "stdout",
     "output_type": "stream",
     "text": [
      "(89, 7, 32) (890, 7, 32)\n"
     ]
    }
   ],
   "source": [
    "# ???  easier to work with numpy arrays rather than pandas dataframes\n",
    "# especially as we now only have numerical data\n",
    "LSTM_training_inputs = [np.array(LSTM_training_input) for LSTM_training_input in LSTM_training_inputs]\n",
    "LSTM_training_inputs = np.array(LSTM_training_inputs)\n",
    "\n",
    "LSTM_test_inputs = [np.array(LSTM_test_inputs) for LSTM_test_inputs in LSTM_test_inputs]\n",
    "LSTM_test_inputs = np.array(LSTM_test_inputs)\n",
    "\n",
    "type(LSTM_test_inputs)\n",
    "print(LSTM_test_inputs.shape, LSTM_training_inputs.shape)"
   ]
  },
  {
   "cell_type": "code",
   "execution_count": 20,
   "metadata": {},
   "outputs": [],
   "source": [
    "# Function to create model, required for KerasRegressor\n",
    "def create_model(dropout, neurons, activ_func, optimizer):\n",
    "    # use default values\n",
    "    loss= 'mse'\n",
    "    output_size = 1 # TODO: Can we change this to 2 or even 4 (to predict all 4 at a time - {eth, btc}_{volatility, daily_ret})\n",
    "    \n",
    "    print (\"Start model: \", dropout, neurons)\n",
    "    \n",
    "    model = Sequential()\n",
    "\n",
    "    # Add 3 layers of LSTM, followed by a dense layer\n",
    "    model.add(LSTM(neurons[0], return_sequences=True, input_shape=(window_len, no_of_features)))\n",
    "    model.add(Dropout(dropout))\n",
    "    # from keras.layers.normalization import BatchNormalization\n",
    "    # model.add(BatchNormalization())\n",
    "    \n",
    "    model.add(LSTM(neurons[1], return_sequences=True))\n",
    "    model.add(Dropout(dropout))\n",
    "    \n",
    "    model.add(LSTM(neurons[2]))\n",
    "    model.add(Dropout(dropout))\n",
    "    \n",
    "    model.add(Dense(units=output_size))\n",
    "    model.add(Activation(activ_func))\n",
    "\n",
    "    model.compile(loss=loss, optimizer=optimizer)\n",
    "    print (\"End compilation of model: \", dropout, neurons)\n",
    "        \n",
    "    return model"
   ]
  },
  {
   "cell_type": "code",
   "execution_count": 21,
   "metadata": {},
   "outputs": [
    {
     "name": "stdout",
     "output_type": "stream",
     "text": [
      "Train input shape:  (890, 7, 32)\n",
      "Train output shape:  (890,)\n",
      "Fitting 5 folds for each of 1 candidates, totalling 5 fits\n",
      "[CV] activ_func=linear, dropout=0.4, neurons=[10, 8, 4], optimizer=adam \n",
      "Start model:  0.4 [10, 8, 4]\n",
      "End compilation of model:  0.4 [10, 8, 4]\n",
      "Epoch 1/15\n",
      "150/150 [==============================] - 3s 17ms/step - loss: 0.0047\n",
      "Epoch 2/15\n",
      "150/150 [==============================] - 0s 3ms/step - loss: 0.0033\n",
      "Epoch 3/15\n",
      "150/150 [==============================] - 0s 2ms/step - loss: 0.0021\n",
      "Epoch 4/15\n",
      "150/150 [==============================] - 0s 2ms/step - loss: 0.0020\n",
      "Epoch 5/15\n",
      "150/150 [==============================] - 0s 3ms/step - loss: 0.0016\n",
      "Epoch 6/15\n",
      "150/150 [==============================] - 0s 3ms/step - loss: 0.0018\n",
      "Epoch 7/15\n",
      "150/150 [==============================] - 0s 3ms/step - loss: 0.0019\n",
      "Epoch 8/15\n",
      "150/150 [==============================] - 0s 3ms/step - loss: 0.0016\n",
      "Epoch 9/15\n",
      "150/150 [==============================] - 0s 3ms/step - loss: 0.0015\n",
      "Epoch 10/15\n",
      "150/150 [==============================] - 0s 3ms/step - loss: 0.0014\n",
      "Epoch 11/15\n",
      "150/150 [==============================] - 0s 3ms/step - loss: 0.0014\n",
      "Epoch 12/15\n",
      "150/150 [==============================] - 0s 3ms/step - loss: 0.0015\n",
      "Epoch 13/15\n",
      "150/150 [==============================] - 0s 3ms/step - loss: 0.0011\n",
      "Epoch 14/15\n",
      "150/150 [==============================] - 0s 3ms/step - loss: 0.0014\n",
      "Epoch 15/15\n",
      "150/150 [==============================] - 0s 3ms/step - loss: 0.0013\n",
      "148/148 [==============================] - 0s 2ms/step\n",
      "150/150 [==============================] - 0s 715us/step\n",
      "[CV]  activ_func=linear, dropout=0.4, neurons=[10, 8, 4], optimizer=adam, score=-0.000653935117583928, total=  13.0s\n",
      "[CV] activ_func=linear, dropout=0.4, neurons=[10, 8, 4], optimizer=adam \n",
      "Start model:  0.4 [10, 8, 4]\n"
     ]
    },
    {
     "name": "stderr",
     "output_type": "stream",
     "text": [
      "[Parallel(n_jobs=1)]: Done   1 out of   1 | elapsed:   13.1s remaining:    0.0s\n"
     ]
    },
    {
     "name": "stdout",
     "output_type": "stream",
     "text": [
      "End compilation of model:  0.4 [10, 8, 4]\n",
      "Epoch 1/15\n",
      "298/298 [==============================] - 3s 11ms/step - loss: 0.0042\n",
      "Epoch 2/15\n",
      "298/298 [==============================] - 1s 2ms/step - loss: 0.0016\n",
      "Epoch 3/15\n",
      "298/298 [==============================] - 1s 3ms/step - loss: 0.0015\n",
      "Epoch 4/15\n",
      "298/298 [==============================] - 1s 3ms/step - loss: 0.0011\n",
      "Epoch 5/15\n",
      "298/298 [==============================] - 1s 3ms/step - loss: 0.0012\n",
      "Epoch 6/15\n",
      "298/298 [==============================] - 1s 3ms/step - loss: 0.0012\n",
      "Epoch 7/15\n",
      "298/298 [==============================] - 1s 3ms/step - loss: 0.0010\n",
      "Epoch 8/15\n",
      "298/298 [==============================] - 1s 2ms/step - loss: 0.0011\n",
      "Epoch 9/15\n",
      "298/298 [==============================] - 1s 2ms/step - loss: 0.0011\n",
      "Epoch 10/15\n",
      "298/298 [==============================] - 1s 2ms/step - loss: 0.0010\n",
      "Epoch 11/15\n",
      "298/298 [==============================] - 1s 3ms/step - loss: 9.8626e-04\n",
      "Epoch 12/15\n",
      "298/298 [==============================] - 1s 3ms/step - loss: 9.4480e-04\n",
      "Epoch 13/15\n",
      "298/298 [==============================] - 1s 3ms/step - loss: 9.1253e-04\n",
      "Epoch 14/15\n",
      "298/298 [==============================] - 1s 2ms/step - loss: 9.0991e-04\n",
      "Epoch 15/15\n",
      "298/298 [==============================] - 1s 2ms/step - loss: 9.5461e-04\n",
      "148/148 [==============================] - 0s 2ms/step\n",
      "298/298 [==============================] - 0s 602us/step\n",
      "[CV]  activ_func=linear, dropout=0.4, neurons=[10, 8, 4], optimizer=adam, score=-0.000718364725921797, total=  19.1s\n",
      "[CV] activ_func=linear, dropout=0.4, neurons=[10, 8, 4], optimizer=adam \n",
      "Start model:  0.4 [10, 8, 4]\n"
     ]
    },
    {
     "name": "stderr",
     "output_type": "stream",
     "text": [
      "[Parallel(n_jobs=1)]: Done   2 out of   2 | elapsed:   32.5s remaining:    0.0s\n"
     ]
    },
    {
     "name": "stdout",
     "output_type": "stream",
     "text": [
      "End compilation of model:  0.4 [10, 8, 4]\n",
      "Epoch 1/15\n",
      "446/446 [==============================] - 4s 9ms/step - loss: 0.0032\n",
      "Epoch 2/15\n",
      "446/446 [==============================] - 2s 4ms/step - loss: 0.0017\n",
      "Epoch 3/15\n",
      "446/446 [==============================] - 2s 4ms/step - loss: 0.0013\n",
      "Epoch 4/15\n",
      "446/446 [==============================] - 1s 3ms/step - loss: 0.0012\n",
      "Epoch 5/15\n",
      "446/446 [==============================] - 1s 3ms/step - loss: 0.0011\n",
      "Epoch 6/15\n",
      "446/446 [==============================] - 1s 3ms/step - loss: 0.0010\n",
      "Epoch 7/15\n",
      "446/446 [==============================] - 1s 3ms/step - loss: 9.4607e-04\n",
      "Epoch 8/15\n",
      "446/446 [==============================] - 1s 3ms/step - loss: 9.7027e-04\n",
      "Epoch 9/15\n",
      "446/446 [==============================] - 2s 3ms/step - loss: 9.2493e-04\n",
      "Epoch 10/15\n",
      "446/446 [==============================] - 2s 4ms/step - loss: 9.8328e-04\n",
      "Epoch 11/15\n",
      "446/446 [==============================] - 2s 3ms/step - loss: 8.7507e-04\n",
      "Epoch 12/15\n",
      "446/446 [==============================] - 2s 4ms/step - loss: 8.5891e-04\n",
      "Epoch 13/15\n",
      "446/446 [==============================] - 2s 4ms/step - loss: 8.8358e-04\n",
      "Epoch 14/15\n",
      "446/446 [==============================] - 1s 3ms/step - loss: 8.7828e-04\n",
      "Epoch 15/15\n",
      "446/446 [==============================] - 1s 3ms/step - loss: 9.2701e-04\n",
      "148/148 [==============================] - 1s 7ms/step\n",
      "446/446 [==============================] - 0s 1ms/step\n",
      "[CV]  activ_func=linear, dropout=0.4, neurons=[10, 8, 4], optimizer=adam, score=-0.001220469972690193, total=  31.2s\n",
      "[CV] activ_func=linear, dropout=0.4, neurons=[10, 8, 4], optimizer=adam \n",
      "Start model:  0.4 [10, 8, 4]\n"
     ]
    },
    {
     "name": "stderr",
     "output_type": "stream",
     "text": [
      "[Parallel(n_jobs=1)]: Done   3 out of   3 | elapsed:  1.1min remaining:    0.0s\n"
     ]
    },
    {
     "name": "stdout",
     "output_type": "stream",
     "text": [
      "End compilation of model:  0.4 [10, 8, 4]\n",
      "Epoch 1/15\n",
      "594/594 [==============================] - 6s 9ms/step - loss: 0.0025\n",
      "Epoch 2/15\n",
      "594/594 [==============================] - 2s 3ms/step - loss: 0.0014\n",
      "Epoch 3/15\n",
      "594/594 [==============================] - 1s 3ms/step - loss: 0.0012\n",
      "Epoch 4/15\n",
      "594/594 [==============================] - 2s 3ms/step - loss: 0.0010\n",
      "Epoch 5/15\n",
      "594/594 [==============================] - 2s 3ms/step - loss: 0.0010\n",
      "Epoch 6/15\n",
      "594/594 [==============================] - 2s 4ms/step - loss: 0.0010\n",
      "Epoch 7/15\n",
      "594/594 [==============================] - 2s 4ms/step - loss: 9.7219e-04\n",
      "Epoch 8/15\n",
      "594/594 [==============================] - 2s 3ms/step - loss: 0.0010\n",
      "Epoch 9/15\n",
      "594/594 [==============================] - 2s 3ms/step - loss: 9.6180e-04\n",
      "Epoch 10/15\n",
      "594/594 [==============================] - 2s 3ms/step - loss: 9.4742e-04\n",
      "Epoch 11/15\n",
      "594/594 [==============================] - 2s 3ms/step - loss: 9.7272e-04\n",
      "Epoch 12/15\n",
      "594/594 [==============================] - 2s 3ms/step - loss: 9.4764e-04\n",
      "Epoch 13/15\n",
      "594/594 [==============================] - 2s 3ms/step - loss: 9.4755e-04\n",
      "Epoch 14/15\n",
      "594/594 [==============================] - 2s 3ms/step - loss: 9.4409e-04\n",
      "Epoch 15/15\n",
      "594/594 [==============================] - 2s 3ms/step - loss: 9.2540e-04\n",
      "148/148 [==============================] - 1s 6ms/step\n",
      "594/594 [==============================] - 0s 795us/step\n",
      "[CV]  activ_func=linear, dropout=0.4, neurons=[10, 8, 4], optimizer=adam, score=-0.0019191442154044274, total=  39.3s\n",
      "[CV] activ_func=linear, dropout=0.4, neurons=[10, 8, 4], optimizer=adam \n",
      "Start model:  0.4 [10, 8, 4]\n"
     ]
    },
    {
     "name": "stderr",
     "output_type": "stream",
     "text": [
      "[Parallel(n_jobs=1)]: Done   4 out of   4 | elapsed:  1.7min remaining:    0.0s\n"
     ]
    },
    {
     "name": "stdout",
     "output_type": "stream",
     "text": [
      "End compilation of model:  0.4 [10, 8, 4]\n",
      "Epoch 1/15\n",
      "742/742 [==============================] - 6s 8ms/step - loss: 0.0051\n",
      "Epoch 2/15\n",
      "742/742 [==============================] - 2s 3ms/step - loss: 0.0021\n",
      "Epoch 3/15\n",
      "742/742 [==============================] - 2s 3ms/step - loss: 0.0016\n",
      "Epoch 4/15\n",
      "742/742 [==============================] - 2s 3ms/step - loss: 0.0014\n",
      "Epoch 5/15\n",
      "742/742 [==============================] - 2s 3ms/step - loss: 0.0014\n",
      "Epoch 6/15\n",
      "742/742 [==============================] - 2s 3ms/step - loss: 0.0013\n",
      "Epoch 7/15\n",
      "742/742 [==============================] - 2s 3ms/step - loss: 0.0013\n",
      "Epoch 8/15\n",
      "742/742 [==============================] - 2s 3ms/step - loss: 0.0012\n",
      "Epoch 9/15\n",
      "742/742 [==============================] - 2s 3ms/step - loss: 0.0012\n",
      "Epoch 10/15\n",
      "742/742 [==============================] - 3s 4ms/step - loss: 0.0012\n",
      "Epoch 11/15\n",
      "742/742 [==============================] - 2s 3ms/step - loss: 0.0012\n",
      "Epoch 12/15\n",
      "742/742 [==============================] - 2s 3ms/step - loss: 0.0012\n",
      "Epoch 13/15\n",
      "742/742 [==============================] - 2s 3ms/step - loss: 0.0012\n",
      "Epoch 14/15\n",
      "742/742 [==============================] - 2s 3ms/step - loss: 0.0011\n",
      "Epoch 15/15\n",
      "742/742 [==============================] - 3s 4ms/step - loss: 0.0012\n",
      "148/148 [==============================] - 1s 6ms/step\n",
      "742/742 [==============================] - 0s 659us/step\n",
      "[CV]  activ_func=linear, dropout=0.4, neurons=[10, 8, 4], optimizer=adam, score=-0.003707852778953148, total=  47.3s\n",
      "Start model:  0.4 [10, 8, 4]\n"
     ]
    },
    {
     "name": "stderr",
     "output_type": "stream",
     "text": [
      "[Parallel(n_jobs=1)]: Done   5 out of   5 | elapsed:  2.5min finished\n"
     ]
    },
    {
     "name": "stdout",
     "output_type": "stream",
     "text": [
      "End compilation of model:  0.4 [10, 8, 4]\n",
      "Epoch 1/15\n",
      "890/890 [==============================] - 6s 7ms/step - loss: 0.0021\n",
      "Epoch 2/15\n",
      "890/890 [==============================] - 2s 2ms/step - loss: 0.0017\n",
      "Epoch 3/15\n",
      "890/890 [==============================] - 2s 3ms/step - loss: 0.0016\n",
      "Epoch 4/15\n",
      "890/890 [==============================] - 2s 3ms/step - loss: 0.0016\n",
      "Epoch 5/15\n",
      "890/890 [==============================] - 2s 3ms/step - loss: 0.0016\n",
      "Epoch 6/15\n",
      "890/890 [==============================] - 2s 3ms/step - loss: 0.0016\n",
      "Epoch 7/15\n",
      "890/890 [==============================] - 3s 3ms/step - loss: 0.0016\n",
      "Epoch 8/15\n",
      "890/890 [==============================] - 2s 3ms/step - loss: 0.0016\n",
      "Epoch 9/15\n",
      "890/890 [==============================] - 3s 3ms/step - loss: 0.0016\n",
      "Epoch 10/15\n",
      "890/890 [==============================] - 2s 3ms/step - loss: 0.0016\n",
      "Epoch 11/15\n",
      "890/890 [==============================] - 2s 2ms/step - loss: 0.0016\n",
      "Epoch 12/15\n",
      "890/890 [==============================] - 2s 3ms/step - loss: 0.0016\n",
      "Epoch 13/15\n",
      "890/890 [==============================] - 2s 2ms/step - loss: 0.0016\n",
      "Epoch 14/15\n",
      "890/890 [==============================] - 2s 3ms/step - loss: 0.0016\n",
      "Epoch 15/15\n",
      "890/890 [==============================] - 2s 3ms/step - loss: 0.0016\n"
     ]
    }
   ],
   "source": [
    "# Set random seed for reproducibility\n",
    "np.random.seed(42)\n",
    "# np.random.seed(21)\n",
    "# np.random.seed(321241242)\n",
    "\n",
    "early_stopping_monitor = keras.callbacks.EarlyStopping(patience=2)\n",
    "# model.fit(predictors, target, validation_split=0.3, epochs=100, callbacks=[early_stopping_monitor])\n",
    "\n",
    "# create model\n",
    "model = KerasRegressor(build_fn=create_model, batch_size=4, epochs=15) #, callbacks=[early_stopping_monitor]) \n",
    "\n",
    "##############################################################\n",
    "# grid search: dropout, neurons\n",
    "dropout = [0.4] #, 0.5] # 0.6]  # [0.25, 0.5, 0.75]\n",
    "neurons = [[10, 8, 4]] #, [20, 16, 8] , [40, 32, 16]] # [80, 64, 32], [160, 128, 64]\n",
    "activations = ['linear'] # ['tanh', 'linear'] # , 'sigmoid']\n",
    "optimizer = ['adam'] # ['sgd', 'rmsprop'] #, 'adam']\n",
    "param_space = dict(dropout=dropout, neurons=neurons, activ_func=activations, optimizer=optimizer)\n",
    "##############################################################\n",
    "\n",
    "tseries_cv = TimeSeriesSplit(n_splits=5).split(LSTM_training_inputs)\n",
    "\n",
    "grid = GridSearchCV(estimator=model, param_grid=param_space, n_jobs=1, cv=tseries_cv, verbose=5)\n",
    "\n",
    "print (\"Train input shape: \", LSTM_training_inputs.shape)\n",
    "print (\"Train output shape: \", LSTM_training_outputs.shape)\n",
    "\n",
    "grid_result = grid.fit(LSTM_training_inputs, LSTM_training_outputs)"
   ]
  },
  {
   "cell_type": "code",
   "execution_count": 22,
   "metadata": {},
   "outputs": [],
   "source": [
    "# fig, ax1 = plt.subplots(1,1)\n",
    "\n",
    "# ax1.plot(bt_history.epoch, bt_history.history['loss'])\n",
    "# ax1.set_title('Training Error')\n",
    "\n",
    "# if bt_model.loss == 'mae':\n",
    "#     ax1.set_ylabel('Mean Absolute Error (MAE)',fontsize=12)\n",
    "# elif bt_model.loss == 'mse':\n",
    "#     ax1.set_ylabel('Mean Squared Error (MSE)',fontsize=12)\n",
    "# else:\n",
    "#     ax1.set_ylabel('Model Loss',fontsize=12)\n",
    "# ax1.set_xlabel('# Epochs',fontsize=12)\n",
    "# plt.show()"
   ]
  },
  {
   "cell_type": "code",
   "execution_count": 23,
   "metadata": {},
   "outputs": [
    {
     "data": {
      "text/plain": [
       "{'activ_func': 'linear',\n",
       " 'dropout': 0.4,\n",
       " 'neurons': [10, 8, 4],\n",
       " 'optimizer': 'adam'}"
      ]
     },
     "execution_count": 23,
     "metadata": {},
     "output_type": "execute_result"
    }
   ],
   "source": [
    "bt_model = grid_result.best_estimator_\n",
    "grid_result.best_params_"
   ]
  },
  {
   "cell_type": "code",
   "execution_count": 29,
   "metadata": {},
   "outputs": [
    {
     "data": {
      "image/png": "[encoded data removed]",
      "text/plain": [
       "<matplotlib.figure.Figure at 0x1150f63a080>"
      ]
     },
     "metadata": {},
     "output_type": "display_data"
    }
   ],
   "source": [
    "fig, ax1 = plt.subplots(1,1)\n",
    "LSTM_test_outputs = training_set[target][window_len:].values\n",
    "ax1.set_xticks([datetime.date(2018,i+1,1) for i in range(12)])\n",
    "ax1.set_xticklabels([datetime.date(2018,i+1,1).strftime('%b %d %Y')  for i in range(12)])\n",
    "ax1.plot(model_data[model_data['Date']>= split_date]['Date'].astype(datetime.datetime),\n",
    "         test_set[target][window_len:], label='Actual')\n",
    "ax1.plot(model_data[model_data['Date']>= split_date]['Date'].astype(datetime.datetime),\n",
    "         (bt_model.predict(LSTM_test_inputs)), \n",
    "         label='Predicted')\n",
    "lstm_mse=np.mean(np.square(bt_model.predict(LSTM_test_inputs)-(test_set[target].values[window_len:])))\n",
    "ax1.annotate('MSE: %.4f'%lstm_mse, xy=(0.75, 0.9),  xycoords='axes fraction', xytext=(0.75, 0.9), textcoords='axes fraction')\n",
    "ax1.set_title('Test Set: Single Timepoint Prediction',fontsize=13)\n",
    "ax1.set_ylabel('Bitcoin Daily Returns',fontsize=12)\n",
    "ax1.legend(bbox_to_anchor=(0.1, 1), loc=2, borderaxespad=0., prop={'size': 14})\n",
    "plt.show()"
   ]
  },
  {
   "cell_type": "code",
   "execution_count": 30,
   "metadata": {},
   "outputs": [
    {
     "data": {
      "image/png": "[encoded data removed]",
      "text/plain": [
       "<matplotlib.figure.Figure at 0x1150f63f630>"
      ]
     },
     "metadata": {},
     "output_type": "display_data"
    }
   ],
   "source": [
    "fig, ax1 = plt.subplots(1,1)\n",
    "ax1.set_xticks([datetime.date(2018,i+1,1) for i in range(12)])\n",
    "ax1.set_xticklabels([datetime.date(2018,i+1,1).strftime('%b %d %Y')  for i in range(12)])\n",
    "ax1.plot(model_data[model_data['Date']< split_date]['Date'][window_len:].astype(datetime.datetime),\n",
    "         training_set[target][window_len:], label='Actual')\n",
    "ax1.plot(model_data[model_data['Date']< split_date]['Date'][window_len:].astype(datetime.datetime),\n",
    "         (bt_model.predict(LSTM_training_inputs)), \n",
    "         label='Predicted')\n",
    "ax1.annotate('MSE: %.4f'%np.mean(np.square(bt_model.predict(LSTM_training_inputs)-\\\n",
    "            (training_set[target].values[window_len:]))), \n",
    "             xy=(0.75, 0.9),  xycoords='axes fraction',\n",
    "            xytext=(0.75, 0.9), textcoords='axes fraction')\n",
    "ax1.set_title('Training Set: Single Timepoint Prediction',fontsize=13)\n",
    "ax1.set_ylabel('Bitcoin Daily Returns',fontsize=12)\n",
    "ax1.legend(bbox_to_anchor=(0.1, 1), loc=2, borderaxespad=0., prop={'size': 14})\n",
    "plt.show()"
   ]
  },
  {
   "cell_type": "code",
   "execution_count": 26,
   "metadata": {},
   "outputs": [
    {
     "data": {
      "text/plain": [
       "-0.0026153307"
      ]
     },
     "execution_count": 26,
     "metadata": {},
     "output_type": "execute_result"
    }
   ],
   "source": [
    "pred_values = bt_model.predict(LSTM_training_inputs)\n",
    "max(pred_values)\n",
    "min(pred_values)"
   ]
  },
  {
   "cell_type": "code",
   "execution_count": 27,
   "metadata": {},
   "outputs": [
    {
     "name": "stdout",
     "output_type": "stream",
     "text": [
      "0.0030647863135465233\n",
      "0.006363817757120959\n",
      "0.003063135357176532\n"
     ]
    }
   ],
   "source": [
    "print (bm1_mse)\n",
    "print (bm2_mse)\n",
    "print (lstm_mse)"
   ]
  },
  {
   "cell_type": "code",
   "execution_count": 28,
   "metadata": {},
   "outputs": [
    {
     "name": "stdout",
     "output_type": "stream",
     "text": [
      "Start model:  0.5 [10, 8, 4]\n",
      "End compilation of model:  0.5 [10, 8, 4]\n",
      "_________________________________________________________________\n",
      "Layer (type)                 Output Shape              Param #   \n",
      "=================================================================\n",
      "lstm_19 (LSTM)               (None, 7, 10)             1720      \n",
      "_________________________________________________________________\n",
      "dropout_19 (Dropout)         (None, 7, 10)             0         \n",
      "_________________________________________________________________\n",
      "lstm_20 (LSTM)               (None, 7, 8)              608       \n",
      "_________________________________________________________________\n",
      "dropout_20 (Dropout)         (None, 7, 8)              0         \n",
      "_________________________________________________________________\n",
      "lstm_21 (LSTM)               (None, 4)                 208       \n",
      "_________________________________________________________________\n",
      "dropout_21 (Dropout)         (None, 4)                 0         \n",
      "_________________________________________________________________\n",
      "dense_7 (Dense)              (None, 1)                 5         \n",
      "_________________________________________________________________\n",
      "activation_7 (Activation)    (None, 1)                 0         \n",
      "=================================================================\n",
      "Total params: 2,541\n",
      "Trainable params: 2,541\n",
      "Non-trainable params: 0\n",
      "_________________________________________________________________\n"
     ]
    }
   ],
   "source": [
    "temp = create_model(0.5, [10, 8, 4], 'linear', 'adam')\n",
    "\n",
    "temp.summary()"
   ]
  },
  {
   "cell_type": "markdown",
   "metadata": {},
   "source": [
    "Log (Bitcoin Volatility) :\n",
    "\n",
    "{'activ_func': 'linear', 'dropout': 0.4, 'neurons': [20, 16, 8]}\n",
    "7.188424481804465\n",
    "0.2821991334719368\n",
    "0.2323832191539962\n",
    "\n",
    "Log (Ethereum Volatility):\n",
    "\n",
    "7.075934943743348\n",
    "0.26612587735504156\n",
    "0.250099288542878\n",
    "\n",
    "Bitcoin Daily returns:\n",
    "\n",
    "0.0030647863135465233\n",
    "0.006363817757120959\n",
    "0.003059795171523061\n",
    "{'activ_func': 'linear', 'dropout': 0.4, 'neurons': [10, 8, 4]}\n",
    "\n",
    "Ethereum Daily returns:\n",
    "\n",
    "{'activ_func': 'linear', 'dropout': 0.5, 'neurons': [10, 8, 4]}\n",
    "0.003542452975106516\n",
    "0.007433466612293294\n",
    "0.003664957524689988"
   ]
  }
 ],
 "metadata": {
  "kernelspec": {
   "display_name": "Python 3",
   "language": "python",
   "name": "python3"
  },
  "language_info": {
   "codemirror_mode": {
    "name": "ipython",
    "version": 3
   },
   "file_extension": ".py",
   "mimetype": "text/x-python",
   "name": "python",
   "nbconvert_exporter": "python",
   "pygments_lexer": "ipython3",
   "version": "3.6.4"
  }
 },
 "nbformat": 4,
 "nbformat_minor": 2
}
